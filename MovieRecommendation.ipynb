{
 "cells": [
  {
   "cell_type": "markdown",
   "id": "9768e48c-e584-4b32-8860-e830b0d87174",
   "metadata": {},
   "source": [
    "Using Spark DataFrame and SparkSQL to inspect MovieLense dataset and build movie reccomendation system"
   ]
  },
  {
   "cell_type": "code",
   "execution_count": 1,
   "id": "2e3335d0-8e4e-4fce-bf31-9a662f308eb1",
   "metadata": {},
   "outputs": [
    {
     "data": {
      "text/html": [
       "<style>pre { white-space: pre !important; }</style>"
      ],
      "text/plain": [
       "<IPython.core.display.HTML object>"
      ]
     },
     "metadata": {},
     "output_type": "display_data"
    }
   ],
   "source": [
    "# Apply CSS styling to display tables with a horizontal scrollbar\n",
    "from IPython.core.display import HTML\n",
    "display(HTML(\"<style>pre { white-space: pre !important; }</style>\"))"
   ]
  },
  {
   "cell_type": "code",
   "execution_count": 2,
   "id": "8890b4eb-e707-433a-b2f3-681fce4135ad",
   "metadata": {
    "tags": []
   },
   "outputs": [],
   "source": [
    "from pyspark.sql import SparkSession\n",
    "\n",
    "# Create SparkSession\n",
    "spark = SparkSession.builder.appName(\"SparkSQL\").getOrCreate()"
   ]
  },
  {
   "cell_type": "code",
   "execution_count": 3,
   "id": "44db6638-432b-4096-a586-e7c916f9ada6",
   "metadata": {},
   "outputs": [],
   "source": [
    "# import os\n",
    "\n",
    "from pyspark.sql import functions as f\n",
    "from pyspark.sql.window import Window\n",
    "from pyspark.sql.types import StringType"
   ]
  },
  {
   "cell_type": "markdown",
   "id": "2303e06a-31c1-48d8-b2da-ddc43b4c1f35",
   "metadata": {
    "tags": []
   },
   "source": [
    "## Table of contents\n",
    "\n",
    "##### 1. Data exploratoin\n",
    "##### 2. Data preprocessing\n",
    "##### 3. Content-based recommendation system\n",
    "##### 4. Collaborative filtering recommendation system\n",
    "##### 5. Hybrid (final) recommendation system"
   ]
  },
  {
   "cell_type": "markdown",
   "id": "8d42ba10-797c-4860-a236-e3fbda1486f8",
   "metadata": {},
   "source": [
    "## 1. Data exploration"
   ]
  },
  {
   "cell_type": "markdown",
   "id": "c658f436-ff11-440e-b318-135a18069b96",
   "metadata": {},
   "source": [
    "In this notebook we will work with three datasets:\n",
    "1. u.item file that contains info about movies\n",
    "2. u.data that contains ratings\n",
    "3. u.user thath holds user information"
   ]
  },
  {
   "cell_type": "markdown",
   "id": "95f3f90e-29d4-4f86-acff-a8127b4c3cb7",
   "metadata": {},
   "source": [
    "**Loading files into PySpark DataFrames**"
   ]
  },
  {
   "cell_type": "code",
   "execution_count": 4,
   "id": "dc5e5fe1-5848-453e-9d97-707f3cef5bed",
   "metadata": {},
   "outputs": [
    {
     "name": "stdout",
     "output_type": "stream",
     "text": [
      "Number of rows:  1682\n",
      "+--------+-----------------+------------+------------------+--------------------+-------+------+---------+---------+--------+------+-----+-----------+-----+-------+---------+------+-------+-------+-------+------+--------+---+-------+\n",
      "|movie_id|            title|release_date|video_release_date|            IMDb_URL|unknown|Action|Adventure|Animation|Children|Comedy|Crime|Documentary|Drama|Fantasy|Film-Noir|Horror|Musical|Mystery|Romance|Sci-Fi|Thriller|War|Western|\n",
      "+--------+-----------------+------------+------------------+--------------------+-------+------+---------+---------+--------+------+-----+-----------+-----+-------+---------+------+-------+-------+-------+------+--------+---+-------+\n",
      "|       1| Toy Story (1995)| 01-Jan-1995|              null|http://us.imdb.co...|      0|     0|        0|        1|       1|     1|    0|          0|    0|      0|        0|     0|      0|      0|      0|     0|       0|  0|      0|\n",
      "|       2| GoldenEye (1995)| 01-Jan-1995|              null|http://us.imdb.co...|      0|     1|        1|        0|       0|     0|    0|          0|    0|      0|        0|     0|      0|      0|      0|     0|       1|  0|      0|\n",
      "|       3|Four Rooms (1995)| 01-Jan-1995|              null|http://us.imdb.co...|      0|     0|        0|        0|       0|     0|    0|          0|    0|      0|        0|     0|      0|      0|      0|     0|       1|  0|      0|\n",
      "|       4|Get Shorty (1995)| 01-Jan-1995|              null|http://us.imdb.co...|      0|     1|        0|        0|       0|     1|    0|          0|    1|      0|        0|     0|      0|      0|      0|     0|       0|  0|      0|\n",
      "|       5|   Copycat (1995)| 01-Jan-1995|              null|http://us.imdb.co...|      0|     0|        0|        0|       0|     0|    1|          0|    1|      0|        0|     0|      0|      0|      0|     0|       1|  0|      0|\n",
      "+--------+-----------------+------------+------------------+--------------------+-------+------+---------+---------+--------+------+-----+-----------+-----+-------+---------+------+-------+-------+-------+------+--------+---+-------+\n",
      "only showing top 5 rows\n",
      "\n",
      "Movies can be in several genres at once.\n"
     ]
    }
   ],
   "source": [
    "# u.item file contains information about movies\n",
    "movies_path = r\"..\\MovieLense\\ml-100k\\u.item\"\n",
    "movies_df = spark.read \\\n",
    "                 .option(\"delimiter\", \"|\") \\\n",
    "                 .csv(movies_path, inferSchema=True, header=False) \\\n",
    "                 .toDF(\"movie_id\", \"title\", \"release_date\", \"video_release_date\", \"IMDb_URL\", \"unknown\",\n",
    "                       \"Action\", \"Adventure\", \"Animation\", \"Children\", \"Comedy\", \"Crime\", \"Documentary\",\n",
    "                       \"Drama\", \"Fantasy\", \"Film-Noir\", \"Horror\", \"Musical\", \"Mystery\",\n",
    "                       \"Romance\", \"Sci-Fi\", \"Thriller\", \"War\", \"Western\")\n",
    "print(\"Number of rows: \", movies_df.count())\n",
    "movies_df.show(5)\n",
    "print(\"Movies can be in several genres at once.\")"
   ]
  },
  {
   "cell_type": "code",
   "execution_count": 5,
   "id": "9c96b4a2-119a-4303-a195-595f71d389e9",
   "metadata": {},
   "outputs": [
    {
     "name": "stdout",
     "output_type": "stream",
     "text": [
      "+--------+-----+------------+------------------+--------+-------+------+---------+---------+--------+------+-----+-----------+-----+-------+---------+------+-------+-------+-------+------+--------+---+-------+-----+\n",
      "|movie_id|title|release_date|video_release_date|IMDb_URL|unknown|Action|Adventure|Animation|Children|Comedy|Crime|Documentary|Drama|Fantasy|Film-Noir|Horror|Musical|Mystery|Romance|Sci-Fi|Thriller|War|Western|count|\n",
      "+--------+-----+------------+------------------+--------+-------+------+---------+---------+--------+------+-----+-----------+-----+-------+---------+------+-------+-------+-------+------+--------+---+-------+-----+\n",
      "+--------+-----+------------+------------------+--------+-------+------+---------+---------+--------+------+-----+-----------+-----+-------+---------+------+-------+-------+-------+------+--------+---+-------+-----+\n",
      "\n"
     ]
    }
   ],
   "source": [
    "# Find duplicates by grouping by all columns and counting\n",
    "duplicates = movies_df.groupBy(movies_df.columns).count().filter(\"count > 1\")\n",
    "\n",
    "duplicates.show()"
   ]
  },
  {
   "cell_type": "code",
   "execution_count": 6,
   "id": "8b2c6e42-ec93-4ba5-b3d8-933f836ad8bd",
   "metadata": {},
   "outputs": [
    {
     "name": "stdout",
     "output_type": "stream",
     "text": [
      "Number of rows:  100000\n",
      "+-------+--------+------+---------+\n",
      "|user_id|movie_id|rating|timestamp|\n",
      "+-------+--------+------+---------+\n",
      "|    196|     242|     3|881250949|\n",
      "|    186|     302|     3|891717742|\n",
      "|     22|     377|     1|878887116|\n",
      "|    244|      51|     2|880606923|\n",
      "|    166|     346|     1|886397596|\n",
      "+-------+--------+------+---------+\n",
      "only showing top 5 rows\n",
      "\n",
      "Each user has rated at least 20 movies.\n"
     ]
    }
   ],
   "source": [
    "# u.data contains 100000 ratings by 943 users on 1682 items (movies)\n",
    "ratings_path =  r\"..\\MovieLense\\ml-100k\\u.data\"\n",
    "ratings_df = spark.read \\\n",
    "                  .option(\"delimiter\", \"\\t\") \\\n",
    "                  .csv(ratings_path, inferSchema=True, header=False) \\\n",
    "                  .toDF(\"user_id\", \"movie_id\", \"rating\", \"timestamp\")\n",
    "\n",
    "print(\"Number of rows: \", ratings_df.count())\n",
    "ratings_df.show(5)\n",
    "print(\"Each user has rated at least 20 movies.\")"
   ]
  },
  {
   "cell_type": "code",
   "execution_count": 7,
   "id": "6f579e10-a2d0-4bb2-a8dc-ffa5fffab19a",
   "metadata": {},
   "outputs": [
    {
     "name": "stdout",
     "output_type": "stream",
     "text": [
      "Number of rows:  943\n",
      "+-------+---+------+----------+--------+\n",
      "|user_id|age|gender|occupation|zip_code|\n",
      "+-------+---+------+----------+--------+\n",
      "|      1| 24|     M|technician|   85711|\n",
      "|      2| 53|     F|     other|   94043|\n",
      "|      3| 23|     M|    writer|   32067|\n",
      "|      4| 24|     M|technician|   43537|\n",
      "|      5| 33|     F|     other|   15213|\n",
      "+-------+---+------+----------+--------+\n",
      "only showing top 5 rows\n",
      "\n"
     ]
    }
   ],
   "source": [
    "# u.user file contains demographic information about the users\n",
    "users_path =  r\"..\\MovieLense\\ml-100k\\u.user\"\n",
    "\n",
    "users_df = spark.read \\\n",
    "                .option(\"delimiter\", \"|\") \\\n",
    "                .csv(users_path, inferSchema=True) \\\n",
    "                .toDF(\"user_id\", \"age\", \"gender\", \"occupation\", \"zip_code\")\n",
    "\n",
    "print(\"Number of rows: \", users_df.count())\n",
    "users_df.show(5)"
   ]
  },
  {
   "cell_type": "markdown",
   "id": "c7a67f95-40a1-497a-9c7f-dff0d9eee48b",
   "metadata": {},
   "source": [
    "**1.1. Average rating score across all movies**"
   ]
  },
  {
   "cell_type": "code",
   "execution_count": 8,
   "id": "fc38ea64-3fa6-4336-ab61-c1cfbc2bf126",
   "metadata": {},
   "outputs": [
    {
     "name": "stdout",
     "output_type": "stream",
     "text": [
      "+--------------+\n",
      "|average rating|\n",
      "+--------------+\n",
      "|          3.53|\n",
      "+--------------+\n",
      "\n"
     ]
    }
   ],
   "source": [
    "# Calculate the average rating across all movies\n",
    "average_rating = ratings_df.agg(f.round(f.avg(\"rating\"), 2).alias(\"average rating\"))\n",
    "\n",
    "# Show the average rating for all movies\n",
    "average_rating.show()"
   ]
  },
  {
   "cell_type": "markdown",
   "id": "9a4b7a9b-d3c0-466c-8d03-79a070b84a54",
   "metadata": {},
   "source": [
    "**1.2. Top 10 movies with the most and least number of views and their average ratings**"
   ]
  },
  {
   "cell_type": "code",
   "execution_count": 9,
   "id": "c86679ba-8433-4fdf-a89d-adb14bd29c71",
   "metadata": {},
   "outputs": [
    {
     "name": "stdout",
     "output_type": "stream",
     "text": [
      "Top 10 movies with the most views:\n",
      "+-----------------------------+---------+------------------+\n",
      "|title                        |num_views|avg_rating        |\n",
      "+-----------------------------+---------+------------------+\n",
      "|Star Wars (1977)             |583      |4.3584905660377355|\n",
      "|Contact (1997)               |509      |3.8035363457760316|\n",
      "|Fargo (1996)                 |508      |4.155511811023622 |\n",
      "|Return of the Jedi (1983)    |507      |4.007889546351085 |\n",
      "|Liar Liar (1997)             |485      |3.156701030927835 |\n",
      "|English Patient, The (1996)  |481      |3.656964656964657 |\n",
      "|Scream (1996)                |478      |3.4414225941422596|\n",
      "|Toy Story (1995)             |452      |3.8783185840707963|\n",
      "|Air Force One (1997)         |431      |3.6310904872389793|\n",
      "|Independence Day (ID4) (1996)|429      |3.438228438228438 |\n",
      "+-----------------------------+---------+------------------+\n",
      "\n",
      "\n",
      "Top 10 movies with the least views:\n",
      "+---------------------------------------------------------+---------+----------+\n",
      "|title                                                    |num_views|avg_rating|\n",
      "+---------------------------------------------------------+---------+----------+\n",
      "|Stefano Quantestorie (1993)                              |1        |1.0       |\n",
      "|Entertaining Angels: The Dorothy Day Story (1996)        |1        |5.0       |\n",
      "|Butcher Boy, The (1998)                                  |1        |4.0       |\n",
      "|King of New York (1990)                                  |1        |1.0       |\n",
      "|I Don't Want to Talk About It (De eso no se habla) (1993)|1        |4.0       |\n",
      "|Shadow of Angels (Schatten der Engel) (1976)             |1        |1.0       |\n",
      "|Sleepover (1995)                                         |1        |3.0       |\n",
      "|Paris Was a Woman (1995)                                 |1        |3.0       |\n",
      "|Liebelei (1933)                                          |1        |1.0       |\n",
      "|Butcher Boy, The (1998)                                  |1        |4.0       |\n",
      "+---------------------------------------------------------+---------+----------+\n",
      "\n"
     ]
    }
   ],
   "source": [
    "# Calculate number of views and average rating for each movie\n",
    "movie_stats = ratings_df.groupBy(\"movie_id\") \\\n",
    "                        .agg(f.count(\"user_id\").alias(\"num_views\"), f.avg(\"rating\").alias(\"avg_rating\"))\n",
    "\n",
    "# Join with movies_df to get movie titles\n",
    "movie_stats = movie_stats.join(movies_df, on=[\"movie_id\"]) \\\n",
    "                        .select(movies_df[\"title\"], \"num_views\", \"avg_rating\")\n",
    "\n",
    "# Show 10 movies with the most views\n",
    "print(\"Top 10 movies with the most views:\")\n",
    "most_views = movie_stats.orderBy(f.col(\"num_views\").desc()).limit(10)\n",
    "most_views.show(truncate=False)\n",
    "\n",
    "# Show 10 movies with the least views\n",
    "print(\"\\nTop 10 movies with the least views:\")\n",
    "least_views = movie_stats.orderBy(f.col(\"num_views\")).limit(10)\n",
    "least_views.show(truncate=False)"
   ]
  },
  {
   "cell_type": "markdown",
   "id": "8ac40399-b1e7-4016-ad10-acf042016e9e",
   "metadata": {},
   "source": [
    "**1.3. Top 3 movies for each category**"
   ]
  },
  {
   "cell_type": "code",
   "execution_count": 10,
   "id": "97a2a2fc-019a-4a24-a31d-8415b1b5182e",
   "metadata": {},
   "outputs": [
    {
     "name": "stdout",
     "output_type": "stream",
     "text": [
      "+-----------+----+--------+--------------------------------------------+-----------+\n",
      "|genre      |rank|movie_id|title                                       |total_views|\n",
      "+-----------+----+--------+--------------------------------------------+-----------+\n",
      "|Action     |1   |50      |Star Wars (1977)                            |583        |\n",
      "|Action     |2   |181     |Return of the Jedi (1983)                   |507        |\n",
      "|Action     |3   |300     |Air Force One (1997)                        |431        |\n",
      "|Adventure  |1   |50      |Star Wars (1977)                            |583        |\n",
      "|Adventure  |2   |181     |Return of the Jedi (1983)                   |507        |\n",
      "|Adventure  |3   |174     |Raiders of the Lost Ark (1981)              |420        |\n",
      "|Animation  |1   |1       |Toy Story (1995)                            |452        |\n",
      "|Animation  |2   |71      |Lion King, The (1994)                       |220        |\n",
      "|Animation  |3   |95      |Aladdin (1992)                              |219        |\n",
      "|Children   |1   |1       |Toy Story (1995)                            |452        |\n",
      "|Children   |2   |151     |Willy Wonka and the Chocolate Factory (1971)|326        |\n",
      "|Children   |3   |423     |E.T. the Extra-Terrestrial (1982)           |300        |\n",
      "|Comedy     |1   |294     |Liar Liar (1997)                            |485        |\n",
      "|Comedy     |2   |1       |Toy Story (1995)                            |452        |\n",
      "|Comedy     |3   |204     |Back to the Future (1985)                   |350        |\n",
      "|Crime      |1   |100     |Fargo (1996)                                |508        |\n",
      "|Crime      |2   |127     |Godfather, The (1972)                       |413        |\n",
      "|Crime      |3   |56      |Pulp Fiction (1994)                         |394        |\n",
      "|Documentary|1   |48      |Hoop Dreams (1994)                          |117        |\n",
      "|Documentary|2   |32      |Crumb (1994)                                |81         |\n",
      "+-----------+----+--------+--------------------------------------------+-----------+\n",
      "only showing top 20 rows\n",
      "\n"
     ]
    }
   ],
   "source": [
    "# Calculate the number of views for each movie\n",
    "movie_views = ratings_df.groupBy(\"movie_id\").agg(f.count(\"user_id\").alias(\"num_views\"))\n",
    "\n",
    "# Initialize an empty DataFrame to store the results\n",
    "top_movies_per_genre = spark.createDataFrame([], schema=\"genre STRING, rank INT, movie_id INT, title STRING, total_views INT\")\n",
    "\n",
    "# Iterate over each genre column and calculate the top 3 movies for each genre\n",
    "for genre in [\"Action\", \"Adventure\", \"Animation\", \"Children\", \"Comedy\", \"Crime\", \"Documentary\", \"Drama\", \"Fantasy\",\n",
    "               \"Film-Noir\", \"Horror\", \"Musical\", \"Mystery\", \"Romance\", \"Sci-Fi\", \"Thriller\", \"War\", \"Western\"]:\n",
    "\n",
    "    genre_views = movies_df.filter(f.col(genre) == 1).join(movie_views, on=[\"movie_id\"]) \\\n",
    "                            .groupBy(\"movie_id\", \"title\").agg(f.sum(f.col(\"num_views\")).alias(\"total_views\"))\n",
    "\n",
    "    window = Window.partitionBy().orderBy(f.desc(\"total_views\"))\n",
    "    ranked_movies = genre_views.withColumn(\"rank\", f.row_number().over(window))\n",
    "\n",
    "    # Select the top 3 movies for each genre\n",
    "    top_genre_movies = ranked_movies.filter(f.col(\"rank\") <= 3) \\\n",
    "                                    .select(f.lit(genre).alias(\"genre\"), f.col(\"rank\"), f.col(\"movie_id\"), f.col(\"title\"), f.col(\"total_views\"))\n",
    "\n",
    "    top_movies_per_genre = top_movies_per_genre.union(top_genre_movies)\n",
    "\n",
    "top_movies_per_genre.orderBy(\"genre\", \"rank\").show(truncate=False)"
   ]
  },
  {
   "cell_type": "markdown",
   "id": "4608833f-1c86-4faf-acbe-931ac0616d34",
   "metadata": {},
   "source": [
    "**1.4. Add categorical attribute 'age_category' and show top 5 most popular movies for each age group**"
   ]
  },
  {
   "cell_type": "code",
   "execution_count": 11,
   "id": "1d2d8661-236d-447f-a132-a954c95239b4",
   "metadata": {},
   "outputs": [
    {
     "name": "stdout",
     "output_type": "stream",
     "text": [
      "+------------+--------+---------------------------+-----------+\n",
      "|age_category|movie_id|title                      |total_views|\n",
      "+------------+--------+---------------------------+-----------+\n",
      "|Middle Aged |50      |Star Wars (1977)           |362        |\n",
      "|Middle Aged |100     |Fargo (1996)               |314        |\n",
      "|Middle Aged |181     |Return of the Jedi (1983)  |307        |\n",
      "|Middle Aged |258     |Contact (1997)             |303        |\n",
      "|Middle Aged |286     |English Patient, The (1996)|300        |\n",
      "|Senior      |286     |English Patient, The (1996)|80         |\n",
      "|Senior      |100     |Fargo (1996)               |60         |\n",
      "|Senior      |300     |Air Force One (1997)       |54         |\n",
      "|Senior      |269     |Full Monty, The (1997)     |50         |\n",
      "|Senior      |127     |Godfather, The (1972)      |48         |\n",
      "|Young       |288     |Scream (1996)              |195        |\n",
      "|Young       |50      |Star Wars (1977)           |173        |\n",
      "|Young       |181     |Return of the Jedi (1983)  |163        |\n",
      "|Young       |294     |Liar Liar (1997)           |163        |\n",
      "|Young       |258     |Contact (1997)             |159        |\n",
      "+------------+--------+---------------------------+-----------+\n",
      "\n"
     ]
    }
   ],
   "source": [
    "# Define age ranges and categorize users\n",
    "users_df = users_df.withColumn(\"age_category\",\n",
    "                               f.when(f.col(\"age\").between(0, 25), \"Young\") \\\n",
    "                               .when(f.col(\"age\").between(26, 50), \"Middle Aged\") \\\n",
    "                               .otherwise(\"Senior\"))\n",
    "\n",
    "movie_views = ratings_df.groupBy(\"movie_id\").agg(f.count(\"user_id\").alias(\"num_views\"))\n",
    "\n",
    "movie_views_with_titles = movie_views.join(movies_df, on=[\"movie_id\"]) \\\n",
    "                                        .select(movie_views[\"movie_id\"], movies_df[\"title\"], \"num_views\")\n",
    "\n",
    "# Join with users_df to get the age category of users\n",
    "top_movies_per_age_category = ratings_df.join(users_df, on=[\"user_id\"]) \\\n",
    "                                        .join(movie_views_with_titles, on=[\"movie_id\"]) \\\n",
    "                                        .groupBy(\"age_category\", \"movie_id\", \"title\") \\\n",
    "                                        .agg(f.count(\"user_id\").alias(\"total_views\")) \\\n",
    "                                        .orderBy(\"age_category\", f.desc(\"total_views\")) \\\n",
    "                                        .withColumn(\"age_category\", f.col(\"age_category\").cast(StringType())) \\\n",
    "\n",
    "# Use window function to rank movies within each age category\n",
    "window_spec = Window.partitionBy(\"age_category\").orderBy(f.desc(\"total_views\"))\n",
    "top_movies_per_age_category = top_movies_per_age_category.withColumn(\"rank\", f.row_number().over(window_spec))\n",
    "\n",
    "# Filter only the top 5 movies for each age category\n",
    "top_movies_per_age_category = top_movies_per_age_category.filter(f.col(\"rank\") <= 5).drop(\"rank\")\n",
    "\n",
    "# Show the top 5 most popular movies for every age category\n",
    "top_movies_per_age_category.show(truncate=False)"
   ]
  },
  {
   "cell_type": "markdown",
   "id": "cc6a1eb8-b8b0-4343-a53b-b492b7acd496",
   "metadata": {},
   "source": [
    "**1.5. Top 5 movies by gender**"
   ]
  },
  {
   "cell_type": "code",
   "execution_count": 12,
   "id": "797663d0-86ba-482f-9e98-8f3f603178a3",
   "metadata": {},
   "outputs": [
    {
     "name": "stdout",
     "output_type": "stream",
     "text": [
      "Top 5 most popular movies based on the number of views for women:\n",
      "+---------------------------+-----------+------------+----------+\n",
      "|title                      |total_views|female_views|male_views|\n",
      "+---------------------------+-----------+------------+----------+\n",
      "|English Patient, The (1996)|481        |152         |329       |\n",
      "|Star Wars (1977)           |583        |151         |432       |\n",
      "|Scream (1996)              |478        |143         |335       |\n",
      "|Liar Liar (1997)           |485        |141         |344       |\n",
      "|Contact (1997)             |509        |137         |372       |\n",
      "+---------------------------+-----------+------------+----------+\n",
      "\n",
      "\n",
      "Top 5 most popular movies based on the number of views for men:\n",
      "+-------------------------+-----------+------------+----------+\n",
      "|title                    |total_views|female_views|male_views|\n",
      "+-------------------------+-----------+------------+----------+\n",
      "|Star Wars (1977)         |583        |151         |432       |\n",
      "|Fargo (1996)             |508        |125         |383       |\n",
      "|Return of the Jedi (1983)|507        |124         |383       |\n",
      "|Contact (1997)           |509        |137         |372       |\n",
      "|Liar Liar (1997)         |485        |141         |344       |\n",
      "+-------------------------+-----------+------------+----------+\n",
      "\n"
     ]
    }
   ],
   "source": [
    "# Join ratings_df with users_df to include gender information\n",
    "joined_df = ratings_df.join(users_df, on=[\"user_id\"])\n",
    "\n",
    "# Calculate the number of views for each movie and gender\n",
    "movie_gender_views = joined_df.groupBy(\"movie_id\", \"gender\") \\\n",
    "                              .agg(f.count(\"user_id\").alias(\"num_views\"))\n",
    "\n",
    "# Convert gender to numeric values (0 for female, 1 for male)\n",
    "movie_gender_views = movie_gender_views.withColumn(\"gender_numeric\", f.when(movie_gender_views[\"gender\"] == \"F\", 0).otherwise(1))\n",
    "\n",
    "# Pivot the dataframe to have separate columns for male and female views\n",
    "movie_gender_views_pivot = movie_gender_views.groupBy(\"movie_id\") \\\n",
    "                                             .pivot(\"gender_numeric\") \\\n",
    "                                             .agg(f.first(\"num_views\"))\n",
    "\n",
    "movie_gender_views_pivot = movie_gender_views_pivot.withColumnRenamed(\"0\", \"female_views\").withColumnRenamed(\"1\", \"male_views\")\n",
    "\n",
    "# Calculate the overall number of views for each movie\n",
    "movie_gender_views_pivot = movie_gender_views_pivot.withColumn(\"total_views\", f.col(\"female_views\") + f.col(\"male_views\"))\n",
    "\n",
    "# Join with movies_df to get movie titles\n",
    "movie_gender_views_pivot = movie_gender_views_pivot.join(movies_df, on=\"movie_id\") \\\n",
    "                                                    .select(movies_df[\"title\"], \"total_views\", \"female_views\", \"male_views\")\n",
    "\n",
    "# Show top 5 most popular movies based on the number of views, segmented by gender\n",
    "top_movies_views_female = movie_gender_views_pivot.orderBy(f.col(\"female_views\").desc()).limit(5)\n",
    "print(\"Top 5 most popular movies based on the number of views for women:\")\n",
    "top_movies_views_female.show(truncate=False)\n",
    "\n",
    "top_movies_views_male = movie_gender_views_pivot.orderBy(f.col(\"male_views\").desc()).limit(5)\n",
    "print(\"\\nTop 5 most popular movies based on the number of views for men:\")\n",
    "top_movies_views_male.show(truncate=False)"
   ]
  },
  {
   "cell_type": "markdown",
   "id": "59d80aab-ba09-40d8-ae32-81bb4ba17880",
   "metadata": {},
   "source": [
    "**1.6. Top 3 movies by gender and occupation**"
   ]
  },
  {
   "cell_type": "code",
   "execution_count": 13,
   "id": "34efbe6b-4687-4713-9b2c-47edabba327b",
   "metadata": {},
   "outputs": [
    {
     "name": "stdout",
     "output_type": "stream",
     "text": [
      "Top 5 most popular movies based on the number of views for females, for each occupation:\n",
      "+-------------+----------------------------------------+-----------+------------+----------+-----------+\n",
      "|occupation   |title                                   |total_views|female_views|male_views|rank_female|\n",
      "+-------------+----------------------------------------+-----------+------------+----------+-----------+\n",
      "|administrator|English Patient, The (1996)             |47         |21          |26        |1          |\n",
      "|administrator|Star Wars (1977)                        |44         |21          |23        |1          |\n",
      "|administrator|Jerry Maguire (1996)                    |38         |19          |19        |3          |\n",
      "|administrator|Return of the Jedi (1983)               |40         |18          |22        |4          |\n",
      "|administrator|Toy Story (1995)                        |31         |18          |13        |4          |\n",
      "|artist       |Contact (1997)                          |15         |10          |5         |1          |\n",
      "|artist       |Return of the Jedi (1983)               |16         |8           |8         |2          |\n",
      "|artist       |Star Wars (1977)                        |18         |8           |10        |2          |\n",
      "|artist       |Godfather, The (1972)                   |12         |8           |4         |2          |\n",
      "|artist       |Scream (1996)                           |11         |7           |4         |5          |\n",
      "|artist       |Liar Liar (1997)                        |16         |7           |9         |5          |\n",
      "|artist       |Fargo (1996)                            |14         |7           |7         |5          |\n",
      "|artist       |Evita (1996)                            |9          |7           |2         |5          |\n",
      "|artist       |English Patient, The (1996)             |13         |7           |6         |5          |\n",
      "|doctor       |E.T. the Extra-Terrestrial (1982)       |null       |null        |1         |1          |\n",
      "|doctor       |Sleeper (1973)                          |null       |null        |1         |1          |\n",
      "|doctor       |Treasure of the Sierra Madre, The (1948)|null       |null        |1         |1          |\n",
      "|doctor       |Swept from the Sea (1997)               |null       |null        |1         |1          |\n",
      "|doctor       |GoodFellas (1990)                       |null       |null        |2         |1          |\n",
      "|doctor       |Ma vie en rose (My Life in Pink) (1997) |null       |null        |1         |1          |\n",
      "+-------------+----------------------------------------+-----------+------------+----------+-----------+\n",
      "only showing top 20 rows\n",
      "\n",
      "\n",
      "Top 5 most popular movies based on the number of views for males, for each occupation:\n",
      "+-------------+--------------------------------+-----------+------------+----------+---------+\n",
      "|occupation   |title                           |total_views|female_views|male_views|rank_male|\n",
      "+-------------+--------------------------------+-----------+------------+----------+---------+\n",
      "|administrator|Air Force One (1997)            |38         |12          |26        |1        |\n",
      "|administrator|English Patient, The (1996)     |47         |21          |26        |1        |\n",
      "|administrator|Liar Liar (1997)                |37         |13          |24        |3        |\n",
      "|administrator|Star Wars (1977)                |44         |21          |23        |4        |\n",
      "|administrator|Return of the Jedi (1983)       |40         |18          |22        |5        |\n",
      "|administrator|Alien (1979)                    |27         |5           |22        |5        |\n",
      "|administrator|Silence of the Lambs, The (1991)|34         |12          |22        |5        |\n",
      "|administrator|Contact (1997)                  |38         |16          |22        |5        |\n",
      "|administrator|Scream (1996)                   |33         |11          |22        |5        |\n",
      "|artist       |Star Wars (1977)                |18         |8           |10        |1        |\n",
      "|artist       |Raiders of the Lost Ark (1981)  |13         |3           |10        |1        |\n",
      "|artist       |Fugitive, The (1993)            |13         |4           |9         |3        |\n",
      "|artist       |Liar Liar (1997)                |16         |7           |9         |3        |\n",
      "|artist       |Return of the Jedi (1983)       |16         |8           |8         |5        |\n",
      "|artist       |Blade Runner (1982)             |10         |2           |8         |5        |\n",
      "|doctor       |English Patient, The (1996)     |null       |null        |5         |1        |\n",
      "|doctor       |Titanic (1997)                  |null       |null        |5         |1        |\n",
      "|doctor       |Air Force One (1997)            |null       |null        |5         |1        |\n",
      "|doctor       |Fargo (1996)                    |null       |null        |4         |4        |\n",
      "|doctor       |Toy Story (1995)                |null       |null        |4         |4        |\n",
      "+-------------+--------------------------------+-----------+------------+----------+---------+\n",
      "only showing top 20 rows\n",
      "\n"
     ]
    }
   ],
   "source": [
    "# Join ratings_df with users_df to include gender and occupation information\n",
    "joined_df = ratings_df.join(users_df, on=\"user_id\")\n",
    "\n",
    "# Calculate the number of views for each movie, gender and occupation\n",
    "movie_gender_occupation_views = joined_df.groupBy(\"movie_id\", \"gender\", \"occupation\") \\\n",
    "                                          .agg(f.count(\"user_id\").alias(\"num_views\"))\n",
    "\n",
    "# Convert gender to numeric values (0 for female, 1 for male)\n",
    "movie_gender_occupation_views = movie_gender_occupation_views.withColumn(\"gender_numeric\", f.when(movie_gender_occupation_views[\"gender\"] == \"F\", 0).otherwise(1))\n",
    "\n",
    "# Pivot the dataframe to have separate columns for male and female views\n",
    "movie_gender_occupation_views_pivot = movie_gender_occupation_views.groupBy(\"occupation\", \"movie_id\") \\\n",
    "                                                                     .pivot(\"gender_numeric\") \\\n",
    "                                                                     .agg(f.first(\"num_views\"))\n",
    "\n",
    "movie_gender_occupation_views_pivot = movie_gender_occupation_views_pivot.withColumnRenamed(\"0\", \"female_views\").withColumnRenamed(\"1\", \"male_views\")\n",
    "\n",
    "# Calculate the overall number of views for each movie and occupation\n",
    "movie_gender_occupation_views_pivot = movie_gender_occupation_views_pivot.withColumn(\"total_views\", f.col(\"female_views\") + f.col(\"male_views\"))\n",
    "\n",
    "# Join with movies_df to get movie titles\n",
    "movie_gender_occupation_views_pivot = movie_gender_occupation_views_pivot.join(movies_df, on=\"movie_id\") \\\n",
    "                                                                         .select(\"occupation\", movies_df[\"title\"], \"total_views\", \"female_views\", \"male_views\")\n",
    "\n",
    "# Show top 5 most popular movies based on the number of views, segmented by gender and occupation\n",
    "\n",
    "window_female = Window.partitionBy(\"occupation\").orderBy(f.col(\"female_views\").desc())\n",
    "window_male = Window.partitionBy(\"occupation\").orderBy(f.col(\"male_views\").desc())\n",
    "\n",
    "top_movies_views_female = movie_gender_occupation_views_pivot.withColumn(\"rank_female\", f.rank().over(window_female)).filter(f.col(\"rank_female\") <= 5)\n",
    "print(\"Top 5 most popular movies based on the number of views for females, for each occupation:\")\n",
    "top_movies_views_female.show(truncate=False)\n",
    "\n",
    "top_movies_views_male = movie_gender_occupation_views_pivot.withColumn(\"rank_male\", f.rank().over(window_male)).filter(f.col(\"rank_male\") <= 5)\n",
    "print(\"\\nTop 5 most popular movies based on the number of views for males, for each occupation:\")\n",
    "top_movies_views_male.show(truncate=False)"
   ]
  },
  {
   "cell_type": "markdown",
   "id": "5f1bd57d-c1fe-48a0-a152-3339aa83838c",
   "metadata": {
    "tags": []
   },
   "source": [
    "## 2. Data preprocessing"
   ]
  },
  {
   "cell_type": "markdown",
   "id": "d9fdf2bf-1fae-4135-bd6c-e929396e1328",
   "metadata": {},
   "source": [
    "To avoid any potential data leakage we will start off by spliting ratings data into train and test set"
   ]
  },
  {
   "cell_type": "code",
   "execution_count": 14,
   "id": "7e34cb1e-7eb3-41fb-88a4-a9052d34c760",
   "metadata": {
    "tags": []
   },
   "outputs": [],
   "source": [
    "# Spliting ratings dataset\n",
    "train_df, test_df = ratings_df.randomSplit([0.8, 0.2], seed=22)"
   ]
  },
  {
   "cell_type": "markdown",
   "id": "4e322346-7bd4-41d1-9cdd-98b7da850a17",
   "metadata": {},
   "source": [
    "Helper functions to avoid code duplication"
   ]
  },
  {
   "cell_type": "code",
   "execution_count": 15,
   "id": "ff569124-458c-4899-b7fa-0c20d5493aa7",
   "metadata": {},
   "outputs": [],
   "source": [
    "def extract_year(df):\n",
    "    '''\n",
    "    Creates a new column 'release_year' from existing 'release_date'\n",
    "    and fills potential missing data with median value\n",
    "    '''\n",
    "    # Extract the year\n",
    "    df = df.withColumn(\"release_year\", f.expr(\"substring(release_date, -4, 4)\").cast(\"int\"))\n",
    "    \n",
    "    # Filling missing release_years with median value\n",
    "    median_release_year = df.approxQuantile(\"release_year\", [0.5], 0.25)[0]\n",
    "    filled = df.withColumn(\"release_year\",\n",
    "                            f.when(f.col(\"release_year\").isNull(), f.lit(median_release_year).cast(\"int\"))\n",
    "                                   .otherwise(f.col(\"release_year\")))\n",
    "\n",
    "    return filled"
   ]
  },
  {
   "cell_type": "code",
   "execution_count": 16,
   "id": "a52cd723-5497-41b8-a7fb-1be35035b126",
   "metadata": {},
   "outputs": [],
   "source": [
    "def null_counts(df):\n",
    "    ''' Shows number of missing values for each column '''\n",
    "    count = df.select([f.sum(f.col(column).isNull().cast(\"int\")).alias(column)\n",
    "                                   for column in df.columns])\n",
    "\n",
    "    count.show()"
   ]
  },
  {
   "cell_type": "markdown",
   "id": "e88a5496-47e3-444b-888b-24c0b4ae331c",
   "metadata": {},
   "source": [
    "**Training dataset**"
   ]
  },
  {
   "cell_type": "code",
   "execution_count": 17,
   "id": "11b15af2-cb1f-4f79-add8-3a933156b13e",
   "metadata": {},
   "outputs": [
    {
     "name": "stdout",
     "output_type": "stream",
     "text": [
      "Number of rows:  79912\n",
      "+-------+--------+------+---------+\n",
      "|user_id|movie_id|rating|timestamp|\n",
      "+-------+--------+------+---------+\n",
      "|      1|       1|     5|874965758|\n",
      "|      1|       2|     3|876893171|\n",
      "|      1|       3|     4|878542960|\n",
      "|      1|       7|     4|875071561|\n",
      "|      1|       8|     1|875072484|\n",
      "+-------+--------+------+---------+\n",
      "only showing top 5 rows\n",
      "\n"
     ]
    }
   ],
   "source": [
    "print(\"Number of rows: \", train_df.count())\n",
    "train_df.show(5)"
   ]
  },
  {
   "cell_type": "code",
   "execution_count": 18,
   "id": "c0d4b6be-9924-4f77-a157-f6228294fa7e",
   "metadata": {},
   "outputs": [
    {
     "name": "stdout",
     "output_type": "stream",
     "text": [
      "+-------+--------+------+---------+--------------------+------------+------------------+--------------------+-------+------+---------+---------+--------+------+-----+-----------+-----+-------+---------+------+-------+-------+-------+------+--------+---+-------+---+------+----------+--------+------------+\n",
      "|user_id|movie_id|rating|timestamp|               title|release_date|video_release_date|            IMDb_URL|unknown|Action|Adventure|Animation|Children|Comedy|Crime|Documentary|Drama|Fantasy|Film-Noir|Horror|Musical|Mystery|Romance|Sci-Fi|Thriller|War|Western|age|gender|occupation|zip_code|age_category|\n",
      "+-------+--------+------+---------+--------------------+------------+------------------+--------------------+-------+------+---------+---------+--------+------+-----+-----------+-----+-------+---------+------+-------+-------+-------+------+--------+---+-------+---+------+----------+--------+------------+\n",
      "|      1|       1|     5|874965758|    Toy Story (1995)| 01-Jan-1995|              null|http://us.imdb.co...|      0|     0|        0|        1|       1|     1|    0|          0|    0|      0|        0|     0|      0|      0|      0|     0|       0|  0|      0| 24|     M|technician|   85711|       Young|\n",
      "|      1|       2|     3|876893171|    GoldenEye (1995)| 01-Jan-1995|              null|http://us.imdb.co...|      0|     1|        1|        0|       0|     0|    0|          0|    0|      0|        0|     0|      0|      0|      0|     0|       1|  0|      0| 24|     M|technician|   85711|       Young|\n",
      "|      1|       3|     4|878542960|   Four Rooms (1995)| 01-Jan-1995|              null|http://us.imdb.co...|      0|     0|        0|        0|       0|     0|    0|          0|    0|      0|        0|     0|      0|      0|      0|     0|       1|  0|      0| 24|     M|technician|   85711|       Young|\n",
      "|      1|       7|     4|875071561|Twelve Monkeys (1...| 01-Jan-1995|              null|http://us.imdb.co...|      0|     0|        0|        0|       0|     0|    0|          0|    1|      0|        0|     0|      0|      0|      0|     1|       0|  0|      0| 24|     M|technician|   85711|       Young|\n",
      "|      1|       8|     1|875072484|         Babe (1995)| 01-Jan-1995|              null|http://us.imdb.co...|      0|     0|        0|        0|       1|     1|    0|          0|    1|      0|        0|     0|      0|      0|      0|     0|       0|  0|      0| 24|     M|technician|   85711|       Young|\n",
      "+-------+--------+------+---------+--------------------+------------+------------------+--------------------+-------+------+---------+---------+--------+------+-----+-----------+-----+-------+---------+------+-------+-------+-------+------+--------+---+-------+---+------+----------+--------+------------+\n",
      "only showing top 5 rows\n",
      "\n"
     ]
    }
   ],
   "source": [
    "# Left join movies_df and users_df to ratings training set\n",
    "training = train_df.join(movies_df, on='movie_id', how='left').join(users_df, on='user_id', how='left')\n",
    "\n",
    "training.show(5)"
   ]
  },
  {
   "cell_type": "code",
   "execution_count": 19,
   "id": "ff089ff9-df37-4687-91d8-8bac3c2bf7bb",
   "metadata": {},
   "outputs": [
    {
     "name": "stdout",
     "output_type": "stream",
     "text": [
      "+---------------------+------------+\n",
      "|title                |release_year|\n",
      "+---------------------+------------+\n",
      "|Toy Story (1995)     |1995        |\n",
      "|GoldenEye (1995)     |1995        |\n",
      "|Four Rooms (1995)    |1995        |\n",
      "|Twelve Monkeys (1995)|1995        |\n",
      "|Babe (1995)          |1995        |\n",
      "+---------------------+------------+\n",
      "only showing top 5 rows\n",
      "\n"
     ]
    }
   ],
   "source": [
    "# Extract the year from the release_date column\n",
    "training = extract_year(training)\n",
    "\n",
    "training.select(\"title\", \"release_year\").show(n=5, truncate=False)"
   ]
  },
  {
   "cell_type": "code",
   "execution_count": 20,
   "id": "aa19a88b-4891-4ff7-9b30-9f021c6cb581",
   "metadata": {},
   "outputs": [
    {
     "name": "stdout",
     "output_type": "stream",
     "text": [
      "+-------+--------+------+---------+-----+------------+------------------+--------+-------+------+---------+---------+--------+------+-----+-----------+-----+-------+---------+------+-------+-------+-------+------+--------+---+-------+---+------+----------+--------+------------+------------+\n",
      "|user_id|movie_id|rating|timestamp|title|release_date|video_release_date|IMDb_URL|unknown|Action|Adventure|Animation|Children|Comedy|Crime|Documentary|Drama|Fantasy|Film-Noir|Horror|Musical|Mystery|Romance|Sci-Fi|Thriller|War|Western|age|gender|occupation|zip_code|age_category|release_year|\n",
      "+-------+--------+------+---------+-----+------------+------------------+--------+-------+------+---------+---------+--------+------+-----+-----------+-----+-------+---------+------+-------+-------+-------+------+--------+---+-------+---+------+----------+--------+------------+------------+\n",
      "|      0|       0|     0|        0|    0|           9|             79912|      11|      0|     0|        0|        0|       0|     0|    0|          0|    0|      0|        0|     0|      0|      0|      0|     0|       0|  0|      0|  0|     0|         0|       0|           0|           0|\n",
      "+-------+--------+------+---------+-----+------------+------------------+--------+-------+------+---------+---------+--------+------+-----+-----------+-----+-------+---------+------+-------+-------+-------+------+--------+---+-------+---+------+----------+--------+------------+------------+\n",
      "\n"
     ]
    }
   ],
   "source": [
    "null_counts(training)\n",
    "# Here we are only interested in release_year column"
   ]
  },
  {
   "cell_type": "code",
   "execution_count": 21,
   "id": "b0e661c0-93e4-4f5c-9db3-eb64bba8fcbe",
   "metadata": {},
   "outputs": [
    {
     "name": "stdout",
     "output_type": "stream",
     "text": [
      "+---+------+----------+------------+-------+------+---------+---------+--------+------+-----+-----------+-----+-------+---------+------+-------+-------+-------+------+--------+---+-------+------+\n",
      "|age|gender|occupation|release_year|unknown|Action|Adventure|Animation|Children|Comedy|Crime|Documentary|Drama|Fantasy|Film-Noir|Horror|Musical|Mystery|Romance|Sci-Fi|Thriller|War|Western|rating|\n",
      "+---+------+----------+------------+-------+------+---------+---------+--------+------+-----+-----------+-----+-------+---------+------+-------+-------+-------+------+--------+---+-------+------+\n",
      "| 24|     M|technician|        1995|      0|     0|        0|        1|       1|     1|    0|          0|    0|      0|        0|     0|      0|      0|      0|     0|       0|  0|      0|     5|\n",
      "| 24|     M|technician|        1995|      0|     1|        1|        0|       0|     0|    0|          0|    0|      0|        0|     0|      0|      0|      0|     0|       1|  0|      0|     3|\n",
      "| 24|     M|technician|        1995|      0|     0|        0|        0|       0|     0|    0|          0|    0|      0|        0|     0|      0|      0|      0|     0|       1|  0|      0|     4|\n",
      "| 24|     M|technician|        1995|      0|     0|        0|        0|       0|     0|    0|          0|    1|      0|        0|     0|      0|      0|      0|     1|       0|  0|      0|     4|\n",
      "| 24|     M|technician|        1995|      0|     0|        0|        0|       1|     1|    0|          0|    1|      0|        0|     0|      0|      0|      0|     0|       0|  0|      0|     1|\n",
      "+---+------+----------+------------+-------+------+---------+---------+--------+------+-----+-----------+-----+-------+---------+------+-------+-------+-------+------+--------+---+-------+------+\n",
      "only showing top 5 rows\n",
      "\n"
     ]
    }
   ],
   "source": [
    "# Select relevant columns\n",
    "train_data = training.select(\"age\", \"gender\", \"occupation\", \"release_year\",\n",
    "                             \"unknown\", \"Action\", \"Adventure\", \"Animation\", \"Children\", \"Comedy\", \"Crime\",\n",
    "                             \"Documentary\", \"Drama\", \"Fantasy\", \"Film-Noir\", \"Horror\", \"Musical\", \"Mystery\",\n",
    "                             \"Romance\", \"Sci-Fi\", \"Thriller\", \"War\", \"Western\", \"rating\")\n",
    "\n",
    "train_data.show(5)     "
   ]
  },
  {
   "cell_type": "code",
   "execution_count": 22,
   "id": "d9ce974e-476c-4577-9154-f5841180514d",
   "metadata": {},
   "outputs": [
    {
     "name": "stdout",
     "output_type": "stream",
     "text": [
      "+---+------+----------+------------+-------+------+---------+---------+--------+------+-----+-----------+-----+-------+---------+------+-------+-------+-------+------+--------+---+-------+------+\n",
      "|age|gender|occupation|release_year|unknown|Action|Adventure|Animation|Children|Comedy|Crime|Documentary|Drama|Fantasy|Film-Noir|Horror|Musical|Mystery|Romance|Sci-Fi|Thriller|War|Western|rating|\n",
      "+---+------+----------+------------+-------+------+---------+---------+--------+------+-----+-----------+-----+-------+---------+------+-------+-------+-------+------+--------+---+-------+------+\n",
      "|  0|     0|         0|           0|      0|     0|        0|        0|       0|     0|    0|          0|    0|      0|        0|     0|      0|      0|      0|     0|       0|  0|      0|     0|\n",
      "+---+------+----------+------------+-------+------+---------+---------+--------+------+-----+-----------+-----+-------+---------+------+-------+-------+-------+------+--------+---+-------+------+\n",
      "\n"
     ]
    }
   ],
   "source": [
    "null_counts(train_data)"
   ]
  },
  {
   "cell_type": "markdown",
   "id": "1a3da4cf-c9e6-4f94-8aff-9b04adff621d",
   "metadata": {},
   "source": [
    "**Testing dataset**"
   ]
  },
  {
   "cell_type": "code",
   "execution_count": 23,
   "id": "2254cae2-9f8e-4171-aab0-8b744c426e8c",
   "metadata": {},
   "outputs": [
    {
     "name": "stdout",
     "output_type": "stream",
     "text": [
      "Number of rows:  20088\n",
      "+-------+--------+------+---------+\n",
      "|user_id|movie_id|rating|timestamp|\n",
      "+-------+--------+------+---------+\n",
      "|      1|       4|     3|876893119|\n",
      "|      1|       5|     3|889751712|\n",
      "|      1|       6|     5|887431973|\n",
      "|      1|      12|     5|878542960|\n",
      "|      1|      13|     5|875071805|\n",
      "+-------+--------+------+---------+\n",
      "only showing top 5 rows\n",
      "\n"
     ]
    }
   ],
   "source": [
    "print(\"Number of rows: \", test_df.count())\n",
    "test_df.show(5)"
   ]
  },
  {
   "cell_type": "code",
   "execution_count": 24,
   "id": "2c7413ae-ff16-4e6f-b16b-033c38950336",
   "metadata": {},
   "outputs": [
    {
     "name": "stdout",
     "output_type": "stream",
     "text": [
      "+-------+--------+------+---------+--------------------+------------+------------------+--------------------+-------+------+---------+---------+--------+------+-----+-----------+-----+-------+---------+------+-------+-------+-------+------+--------+---+-------+---+------+----------+--------+------------+\n",
      "|user_id|movie_id|rating|timestamp|               title|release_date|video_release_date|            IMDb_URL|unknown|Action|Adventure|Animation|Children|Comedy|Crime|Documentary|Drama|Fantasy|Film-Noir|Horror|Musical|Mystery|Romance|Sci-Fi|Thriller|War|Western|age|gender|occupation|zip_code|age_category|\n",
      "+-------+--------+------+---------+--------------------+------------+------------------+--------------------+-------+------+---------+---------+--------+------+-----+-----------+-----+-------+---------+------+-------+-------+-------+------+--------+---+-------+---+------+----------+--------+------------+\n",
      "|      1|       4|     3|876893119|   Get Shorty (1995)| 01-Jan-1995|              null|http://us.imdb.co...|      0|     1|        0|        0|       0|     1|    0|          0|    1|      0|        0|     0|      0|      0|      0|     0|       0|  0|      0| 24|     M|technician|   85711|       Young|\n",
      "|      1|       5|     3|889751712|      Copycat (1995)| 01-Jan-1995|              null|http://us.imdb.co...|      0|     0|        0|        0|       0|     0|    1|          0|    1|      0|        0|     0|      0|      0|      0|     0|       1|  0|      0| 24|     M|technician|   85711|       Young|\n",
      "|      1|       6|     5|887431973|Shanghai Triad (Y...| 01-Jan-1995|              null|http://us.imdb.co...|      0|     0|        0|        0|       0|     0|    0|          0|    1|      0|        0|     0|      0|      0|      0|     0|       0|  0|      0| 24|     M|technician|   85711|       Young|\n",
      "|      1|      12|     5|878542960|Usual Suspects, T...| 14-Aug-1995|              null|http://us.imdb.co...|      0|     0|        0|        0|       0|     0|    1|          0|    0|      0|        0|     0|      0|      0|      0|     0|       1|  0|      0| 24|     M|technician|   85711|       Young|\n",
      "|      1|      13|     5|875071805|Mighty Aphrodite ...| 30-Oct-1995|              null|http://us.imdb.co...|      0|     0|        0|        0|       0|     1|    0|          0|    0|      0|        0|     0|      0|      0|      0|     0|       0|  0|      0| 24|     M|technician|   85711|       Young|\n",
      "+-------+--------+------+---------+--------------------+------------+------------------+--------------------+-------+------+---------+---------+--------+------+-----+-----------+-----+-------+---------+------+-------+-------+-------+------+--------+---+-------+---+------+----------+--------+------------+\n",
      "only showing top 5 rows\n",
      "\n"
     ]
    }
   ],
   "source": [
    "# Left join movies_df and users_df on ratings testing set\n",
    "testing = test_df.join(movies_df, on='movie_id', how='left').join(users_df, on='user_id', how='left')\n",
    "\n",
    "testing.show(5)"
   ]
  },
  {
   "cell_type": "code",
   "execution_count": 25,
   "id": "cad70c00-6da3-4ba3-9ce6-01b61a82aea7",
   "metadata": {},
   "outputs": [
    {
     "name": "stdout",
     "output_type": "stream",
     "text": [
      "+----------------------------------------------------+------------+\n",
      "|title                                               |release_year|\n",
      "+----------------------------------------------------+------------+\n",
      "|Get Shorty (1995)                                   |1995        |\n",
      "|Copycat (1995)                                      |1995        |\n",
      "|Shanghai Triad (Yao a yao yao dao waipo qiao) (1995)|1995        |\n",
      "|Usual Suspects, The (1995)                          |1995        |\n",
      "|Mighty Aphrodite (1995)                             |1995        |\n",
      "+----------------------------------------------------+------------+\n",
      "only showing top 5 rows\n",
      "\n"
     ]
    }
   ],
   "source": [
    "# Extract the year from the release_date column\n",
    "testing = extract_year(testing)\n",
    "\n",
    "testing.select(\"title\", \"release_year\").show(n=5, truncate=False)"
   ]
  },
  {
   "cell_type": "code",
   "execution_count": 26,
   "id": "b9142f68-9967-496a-b93f-ea941efbb0a2",
   "metadata": {},
   "outputs": [
    {
     "name": "stdout",
     "output_type": "stream",
     "text": [
      "+-------+--------+------+---------+-----+------------+------------------+--------+-------+------+---------+---------+--------+------+-----+-----------+-----+-------+---------+------+-------+-------+-------+------+--------+---+-------+---+------+----------+--------+------------+------------+\n",
      "|user_id|movie_id|rating|timestamp|title|release_date|video_release_date|IMDb_URL|unknown|Action|Adventure|Animation|Children|Comedy|Crime|Documentary|Drama|Fantasy|Film-Noir|Horror|Musical|Mystery|Romance|Sci-Fi|Thriller|War|Western|age|gender|occupation|zip_code|age_category|release_year|\n",
      "+-------+--------+------+---------+-----+------------+------------------+--------+-------+------+---------+---------+--------+------+-----+-----------+-----+-------+---------+------+-------+-------+-------+------+--------+---+-------+---+------+----------+--------+------------+------------+\n",
      "|      0|       0|     0|        0|    0|           0|             20088|       2|      0|     0|        0|        0|       0|     0|    0|          0|    0|      0|        0|     0|      0|      0|      0|     0|       0|  0|      0|  0|     0|         0|       0|           0|           0|\n",
      "+-------+--------+------+---------+-----+------------+------------------+--------+-------+------+---------+---------+--------+------+-----+-----------+-----+-------+---------+------+-------+-------+-------+------+--------+---+-------+---+------+----------+--------+------------+------------+\n",
      "\n"
     ]
    }
   ],
   "source": [
    "null_counts(testing)"
   ]
  },
  {
   "cell_type": "code",
   "execution_count": 27,
   "id": "beff7c87-9705-452c-a68c-ad390f6432ce",
   "metadata": {},
   "outputs": [
    {
     "name": "stdout",
     "output_type": "stream",
     "text": [
      "+---+------+----------+------------+-------+------+---------+---------+--------+------+-----+-----------+-----+-------+---------+------+-------+-------+-------+------+--------+---+-------+------+\n",
      "|age|gender|occupation|release_year|unknown|Action|Adventure|Animation|Children|Comedy|Crime|Documentary|Drama|Fantasy|Film-Noir|Horror|Musical|Mystery|Romance|Sci-Fi|Thriller|War|Western|rating|\n",
      "+---+------+----------+------------+-------+------+---------+---------+--------+------+-----+-----------+-----+-------+---------+------+-------+-------+-------+------+--------+---+-------+------+\n",
      "| 24|     M|technician|        1995|      0|     1|        0|        0|       0|     1|    0|          0|    1|      0|        0|     0|      0|      0|      0|     0|       0|  0|      0|     3|\n",
      "| 24|     M|technician|        1995|      0|     0|        0|        0|       0|     0|    1|          0|    1|      0|        0|     0|      0|      0|      0|     0|       1|  0|      0|     3|\n",
      "| 24|     M|technician|        1995|      0|     0|        0|        0|       0|     0|    0|          0|    1|      0|        0|     0|      0|      0|      0|     0|       0|  0|      0|     5|\n",
      "| 24|     M|technician|        1995|      0|     0|        0|        0|       0|     0|    1|          0|    0|      0|        0|     0|      0|      0|      0|     0|       1|  0|      0|     5|\n",
      "| 24|     M|technician|        1995|      0|     0|        0|        0|       0|     1|    0|          0|    0|      0|        0|     0|      0|      0|      0|     0|       0|  0|      0|     5|\n",
      "+---+------+----------+------------+-------+------+---------+---------+--------+------+-----+-----------+-----+-------+---------+------+-------+-------+-------+------+--------+---+-------+------+\n",
      "only showing top 5 rows\n",
      "\n"
     ]
    }
   ],
   "source": [
    "# Select relevant columns\n",
    "test_data = testing.select(\"age\", \"gender\", \"occupation\", \"release_year\",\n",
    "                            \"unknown\", \"Action\", \"Adventure\", \"Animation\", \"Children\", \"Comedy\", \"Crime\",\n",
    "                            \"Documentary\",\"Drama\", \"Fantasy\", \"Film-Noir\", \"Horror\", \"Musical\", \"Mystery\",\n",
    "                            \"Romance\", \"Sci-Fi\", \"Thriller\", \"War\", \"Western\", \"rating\")\n",
    "test_data.show(5)"
   ]
  },
  {
   "cell_type": "code",
   "execution_count": 28,
   "id": "17662ba8-3a88-45d2-8d87-e51bcd10acd7",
   "metadata": {},
   "outputs": [
    {
     "name": "stdout",
     "output_type": "stream",
     "text": [
      "+---+------+----------+------------+-------+------+---------+---------+--------+------+-----+-----------+-----+-------+---------+------+-------+-------+-------+------+--------+---+-------+------+\n",
      "|age|gender|occupation|release_year|unknown|Action|Adventure|Animation|Children|Comedy|Crime|Documentary|Drama|Fantasy|Film-Noir|Horror|Musical|Mystery|Romance|Sci-Fi|Thriller|War|Western|rating|\n",
      "+---+------+----------+------------+-------+------+---------+---------+--------+------+-----+-----------+-----+-------+---------+------+-------+-------+-------+------+--------+---+-------+------+\n",
      "|  0|     0|         0|           0|      0|     0|        0|        0|       0|     0|    0|          0|    0|      0|        0|     0|      0|      0|      0|     0|       0|  0|      0|     0|\n",
      "+---+------+----------+------------+-------+------+---------+---------+--------+------+-----+-----------+-----+-------+---------+------+-------+-------+-------+------+--------+---+-------+------+\n",
      "\n"
     ]
    }
   ],
   "source": [
    "null_counts(test_data)"
   ]
  },
  {
   "cell_type": "code",
   "execution_count": 29,
   "id": "c0784d0b-93d7-46f4-89c5-d05c90287861",
   "metadata": {},
   "outputs": [],
   "source": [
    "from pyspark.ml.feature import StringIndexer, OneHotEncoder, VectorAssembler\n",
    "from pyspark.ml import Pipeline"
   ]
  },
  {
   "cell_type": "markdown",
   "id": "b92d651c-f23d-47e8-a2e0-3041b4eeaa69",
   "metadata": {},
   "source": [
    "**Trening dataset - OneHotEncoder, asembler**"
   ]
  },
  {
   "cell_type": "code",
   "execution_count": 30,
   "id": "29bb5bfa-5088-4175-8ce9-70bccd3259f2",
   "metadata": {},
   "outputs": [],
   "source": [
    "def encode_gender(dataframe):\n",
    "    # StringIndexer to convert string labels into indices\n",
    "    gender_indexer = StringIndexer(inputCol=\"gender\", outputCol=\"gender_index\")\n",
    "\n",
    "    # OneHotEncoder to convert indices into one-hot encoded vectors\n",
    "    gender_encoder = OneHotEncoder(inputCol=\"gender_index\", outputCol=\"gender_encoded\")\n",
    "\n",
    "    pipeline = Pipeline(stages=[gender_indexer, gender_encoder])\n",
    "    encoded_df = pipeline.fit(dataframe).transform(dataframe)\n",
    "\n",
    "    #Drop categorical columns\n",
    "    encoded_df = encoded_df.drop(\"gender\", \"gender_index\")\n",
    "    \n",
    "    return encoded_df"
   ]
  },
  {
   "cell_type": "code",
   "execution_count": 31,
   "id": "463c284e-70b5-4fa2-9fac-ac02fb249241",
   "metadata": {
    "tags": []
   },
   "outputs": [],
   "source": [
    "def encode_occupation(dataframe):\n",
    "    # StringIndexer to convert string labels into indices\n",
    "    occupation_indexer = StringIndexer(inputCol=\"occupation\", outputCol=\"occupation_index\")\n",
    "\n",
    "    # OneHotEncoder to convert indices into one-hot encoded vectors\n",
    "    occupation_encoder = OneHotEncoder(inputCol=\"occupation_index\", outputCol=\"occupation_encoded\")\n",
    "\n",
    "    pipeline = Pipeline(stages=[occupation_indexer, occupation_encoder])\n",
    "    encoded_df = pipeline.fit(dataframe).transform(dataframe)\n",
    "    \n",
    "    #Drop categorical columns\n",
    "    encoded_df = encoded_df.drop(\"occupation\", \"occupation_index\")\n",
    "\n",
    "    return encoded_df"
   ]
  },
  {
   "cell_type": "code",
   "execution_count": 32,
   "id": "f4f16fc3-7b1f-4bbd-81e4-ffa09bdd27fd",
   "metadata": {},
   "outputs": [],
   "source": [
    "training_data = encode_gender(train_data)"
   ]
  },
  {
   "cell_type": "code",
   "execution_count": 33,
   "id": "f8d1106a-de7c-4e5a-acde-9d12db2ff56c",
   "metadata": {},
   "outputs": [],
   "source": [
    "training_data = encode_occupation(training_data)"
   ]
  },
  {
   "cell_type": "code",
   "execution_count": 34,
   "id": "58f60837-d6f7-491a-923b-31e41ab3c2c0",
   "metadata": {},
   "outputs": [
    {
     "name": "stdout",
     "output_type": "stream",
     "text": [
      "+---+------------+-------+------+---------+---------+--------+------+-----+-----------+-----+-------+---------+------+-------+-------+-------+------+--------+---+-------+------+--------------+------------------+\n",
      "|age|release_year|unknown|Action|Adventure|Animation|Children|Comedy|Crime|Documentary|Drama|Fantasy|Film-Noir|Horror|Musical|Mystery|Romance|Sci-Fi|Thriller|War|Western|rating|gender_encoded|occupation_encoded|\n",
      "+---+------------+-------+------+---------+---------+--------+------+-----+-----------+-----+-------+---------+------+-------+-------+-------+------+--------+---+-------+------+--------------+------------------+\n",
      "| 24|        1995|      0|     0|        0|        1|       1|     1|    0|          0|    0|      0|        0|     0|      0|      0|      0|     0|       0|  0|      0|     5| (1,[0],[1.0])|    (20,[8],[1.0])|\n",
      "| 24|        1995|      0|     1|        1|        0|       0|     0|    0|          0|    0|      0|        0|     0|      0|      0|      0|     0|       1|  0|      0|     3| (1,[0],[1.0])|    (20,[8],[1.0])|\n",
      "| 24|        1995|      0|     0|        0|        0|       0|     0|    0|          0|    0|      0|        0|     0|      0|      0|      0|     0|       1|  0|      0|     4| (1,[0],[1.0])|    (20,[8],[1.0])|\n",
      "| 24|        1995|      0|     0|        0|        0|       0|     0|    0|          0|    1|      0|        0|     0|      0|      0|      0|     1|       0|  0|      0|     4| (1,[0],[1.0])|    (20,[8],[1.0])|\n",
      "| 24|        1995|      0|     0|        0|        0|       1|     1|    0|          0|    1|      0|        0|     0|      0|      0|      0|     0|       0|  0|      0|     1| (1,[0],[1.0])|    (20,[8],[1.0])|\n",
      "| 24|        1995|      0|     0|        0|        0|       0|     0|    0|          0|    1|      0|        0|     0|      0|      0|      0|     0|       0|  0|      0|     5| (1,[0],[1.0])|    (20,[8],[1.0])|\n",
      "| 24|        1996|      0|     0|        0|        0|       0|     0|    0|          0|    1|      0|        0|     0|      0|      0|      0|     0|       0|  1|      0|     3| (1,[0],[1.0])|    (20,[8],[1.0])|\n",
      "| 24|        1995|      0|     0|        0|        0|       0|     0|    1|          0|    0|      0|        0|     0|      0|      0|      0|     0|       1|  0|      0|     2| (1,[0],[1.0])|    (20,[8],[1.0])|\n",
      "| 24|        1994|      0|     0|        0|        0|       0|     0|    0|          0|    1|      0|        0|     0|      0|      0|      1|     0|       0|  0|      0|     5| (1,[0],[1.0])|    (20,[8],[1.0])|\n",
      "| 24|        1996|      0|     1|        0|        0|       0|     1|    1|          0|    0|      0|        0|     1|      0|      0|      0|     0|       1|  0|      0|     3| (1,[0],[1.0])|    (20,[8],[1.0])|\n",
      "| 24|        1995|      0|     0|        0|        0|       0|     0|    0|          0|    1|      0|        0|     0|      0|      0|      0|     0|       0|  0|      0|     4| (1,[0],[1.0])|    (20,[8],[1.0])|\n",
      "| 24|        1995|      0|     0|        0|        0|       0|     0|    0|          0|    1|      0|        0|     0|      0|      0|      1|     0|       0|  0|      0|     4| (1,[0],[1.0])|    (20,[8],[1.0])|\n",
      "| 24|        1996|      0|     1|        1|        0|       0|     1|    0|          0|    0|      0|        0|     0|      1|      0|      0|     0|       1|  0|      0|     1| (1,[0],[1.0])|    (20,[8],[1.0])|\n",
      "| 24|        1996|      0|     1|        0|        0|       0|     0|    0|          0|    1|      0|        0|     0|      0|      0|      0|     0|       0|  1|      0|     4| (1,[0],[1.0])|    (20,[8],[1.0])|\n",
      "| 24|        1996|      0|     0|        0|        0|       0|     0|    0|          0|    1|      0|        0|     0|      0|      0|      0|     0|       1|  0|      0|     4| (1,[0],[1.0])|    (20,[8],[1.0])|\n",
      "| 24|        1996|      0|     1|        1|        0|       0|     0|    1|          0|    0|      0|        0|     0|      0|      0|      0|     0|       0|  0|      0|     3| (1,[0],[1.0])|    (20,[8],[1.0])|\n",
      "| 24|        1996|      0|     0|        0|        0|       0|     1|    0|          0|    0|      0|        0|     0|      0|      0|      0|     0|       0|  0|      0|     4| (1,[0],[1.0])|    (20,[8],[1.0])|\n",
      "| 24|        1995|      0|     0|        0|        0|       0|     1|    0|          0|    0|      0|        0|     0|      0|      0|      0|     0|       0|  0|      0|     3| (1,[0],[1.0])|    (20,[8],[1.0])|\n",
      "| 24|        1995|      0|     1|        0|        0|       0|     0|    0|          0|    0|      0|        0|     0|      0|      0|      0|     0|       0|  0|      0|     2| (1,[0],[1.0])|    (20,[8],[1.0])|\n",
      "| 24|        1995|      0|     1|        0|        0|       0|     0|    0|          0|    1|      0|        0|     0|      0|      0|      0|     0|       1|  0|      0|     4| (1,[0],[1.0])|    (20,[8],[1.0])|\n",
      "+---+------------+-------+------+---------+---------+--------+------+-----+-----------+-----+-------+---------+------+-------+-------+-------+------+--------+---+-------+------+--------------+------------------+\n",
      "only showing top 20 rows\n",
      "\n"
     ]
    }
   ],
   "source": [
    "training_data.show()"
   ]
  },
  {
   "cell_type": "code",
   "execution_count": 35,
   "id": "bd412aac-b523-4858-b380-fc09ecdd23ac",
   "metadata": {},
   "outputs": [],
   "source": [
    "# VectorAssembler is used to combine list of columns into a single 'vector column'  \n",
    "# The resulting 'features' column will be used as input for our models\n",
    "assembler = VectorAssembler(\n",
    "    inputCols=[\"age\", \"gender_encoded\", \"occupation_encoded\", \"release_year\", \"unknown\", \"Action\", \"Adventure\",\n",
    "               \"Animation\", \"Children\", \"Comedy\", \"Crime\", \"Documentary\", \"Drama\", \"Fantasy\", \"Film-Noir\",\n",
    "               \"Horror\", \"Musical\", \"Mystery\", \"Romance\", \"Sci-Fi\", \"Thriller\", \"War\", \"Western\"],\n",
    "    outputCol=\"features\")"
   ]
  },
  {
   "cell_type": "code",
   "execution_count": 36,
   "id": "6848a6a3-3a26-44ac-bffd-79ff57e9f141",
   "metadata": {},
   "outputs": [
    {
     "name": "stdout",
     "output_type": "stream",
     "text": [
      "+-------------------------------------------------------------------------+\n",
      "|features                                                                 |\n",
      "+-------------------------------------------------------------------------+\n",
      "|(42,[0,1,10,22,26,27,28],[24.0,1.0,1.0,1995.0,1.0,1.0,1.0])              |\n",
      "|(42,[0,1,10,22,24,25,39],[24.0,1.0,1.0,1995.0,1.0,1.0,1.0])              |\n",
      "|(42,[0,1,10,22,39],[24.0,1.0,1.0,1995.0,1.0])                            |\n",
      "|(42,[0,1,10,22,31,38],[24.0,1.0,1.0,1995.0,1.0,1.0])                     |\n",
      "|(42,[0,1,10,22,27,28,31],[24.0,1.0,1.0,1995.0,1.0,1.0,1.0])              |\n",
      "|(42,[0,1,10,22,31],[24.0,1.0,1.0,1995.0,1.0])                            |\n",
      "|(42,[0,1,10,22,31,40],[24.0,1.0,1.0,1996.0,1.0,1.0])                     |\n",
      "|(42,[0,1,10,22,29,39],[24.0,1.0,1.0,1995.0,1.0,1.0])                     |\n",
      "|(42,[0,1,10,22,31,37],[24.0,1.0,1.0,1994.0,1.0,1.0])                     |\n",
      "|(42,[0,1,10,22,24,28,29,34,39],[24.0,1.0,1.0,1996.0,1.0,1.0,1.0,1.0,1.0])|\n",
      "+-------------------------------------------------------------------------+\n",
      "only showing top 10 rows\n",
      "\n"
     ]
    }
   ],
   "source": [
    "assembled_training = assembler.transform(training_data)\n",
    "assembled_training.select(\"features\").show(n=10, truncate=False)"
   ]
  },
  {
   "cell_type": "code",
   "execution_count": 37,
   "id": "7fd2caff-80da-4995-b30d-1899650aedd1",
   "metadata": {},
   "outputs": [
    {
     "name": "stdout",
     "output_type": "stream",
     "text": [
      "+---+------------+-------+------+---------+---------+--------+------+-----+-----------+-----+-------+---------+------+-------+-------+-------+------+--------+---+-------+------+--------------+------------------+--------------------+\n",
      "|age|release_year|unknown|Action|Adventure|Animation|Children|Comedy|Crime|Documentary|Drama|Fantasy|Film-Noir|Horror|Musical|Mystery|Romance|Sci-Fi|Thriller|War|Western|rating|gender_encoded|occupation_encoded|            features|\n",
      "+---+------------+-------+------+---------+---------+--------+------+-----+-----------+-----+-------+---------+------+-------+-------+-------+------+--------+---+-------+------+--------------+------------------+--------------------+\n",
      "| 24|        1995|      0|     0|        0|        1|       1|     1|    0|          0|    0|      0|        0|     0|      0|      0|      0|     0|       0|  0|      0|     5| (1,[0],[1.0])|    (20,[8],[1.0])|(42,[0,1,10,22,26...|\n",
      "| 24|        1995|      0|     1|        1|        0|       0|     0|    0|          0|    0|      0|        0|     0|      0|      0|      0|     0|       1|  0|      0|     3| (1,[0],[1.0])|    (20,[8],[1.0])|(42,[0,1,10,22,24...|\n",
      "| 24|        1995|      0|     0|        0|        0|       0|     0|    0|          0|    0|      0|        0|     0|      0|      0|      0|     0|       1|  0|      0|     4| (1,[0],[1.0])|    (20,[8],[1.0])|(42,[0,1,10,22,39...|\n",
      "| 24|        1995|      0|     0|        0|        0|       0|     0|    0|          0|    1|      0|        0|     0|      0|      0|      0|     1|       0|  0|      0|     4| (1,[0],[1.0])|    (20,[8],[1.0])|(42,[0,1,10,22,31...|\n",
      "| 24|        1995|      0|     0|        0|        0|       1|     1|    0|          0|    1|      0|        0|     0|      0|      0|      0|     0|       0|  0|      0|     1| (1,[0],[1.0])|    (20,[8],[1.0])|(42,[0,1,10,22,27...|\n",
      "| 24|        1995|      0|     0|        0|        0|       0|     0|    0|          0|    1|      0|        0|     0|      0|      0|      0|     0|       0|  0|      0|     5| (1,[0],[1.0])|    (20,[8],[1.0])|(42,[0,1,10,22,31...|\n",
      "| 24|        1996|      0|     0|        0|        0|       0|     0|    0|          0|    1|      0|        0|     0|      0|      0|      0|     0|       0|  1|      0|     3| (1,[0],[1.0])|    (20,[8],[1.0])|(42,[0,1,10,22,31...|\n",
      "| 24|        1995|      0|     0|        0|        0|       0|     0|    1|          0|    0|      0|        0|     0|      0|      0|      0|     0|       1|  0|      0|     2| (1,[0],[1.0])|    (20,[8],[1.0])|(42,[0,1,10,22,29...|\n",
      "| 24|        1994|      0|     0|        0|        0|       0|     0|    0|          0|    1|      0|        0|     0|      0|      0|      1|     0|       0|  0|      0|     5| (1,[0],[1.0])|    (20,[8],[1.0])|(42,[0,1,10,22,31...|\n",
      "| 24|        1996|      0|     1|        0|        0|       0|     1|    1|          0|    0|      0|        0|     1|      0|      0|      0|     0|       1|  0|      0|     3| (1,[0],[1.0])|    (20,[8],[1.0])|(42,[0,1,10,22,24...|\n",
      "| 24|        1995|      0|     0|        0|        0|       0|     0|    0|          0|    1|      0|        0|     0|      0|      0|      0|     0|       0|  0|      0|     4| (1,[0],[1.0])|    (20,[8],[1.0])|(42,[0,1,10,22,31...|\n",
      "| 24|        1995|      0|     0|        0|        0|       0|     0|    0|          0|    1|      0|        0|     0|      0|      0|      1|     0|       0|  0|      0|     4| (1,[0],[1.0])|    (20,[8],[1.0])|(42,[0,1,10,22,31...|\n",
      "| 24|        1996|      0|     1|        1|        0|       0|     1|    0|          0|    0|      0|        0|     0|      1|      0|      0|     0|       1|  0|      0|     1| (1,[0],[1.0])|    (20,[8],[1.0])|(42,[0,1,10,22,24...|\n",
      "| 24|        1996|      0|     1|        0|        0|       0|     0|    0|          0|    1|      0|        0|     0|      0|      0|      0|     0|       0|  1|      0|     4| (1,[0],[1.0])|    (20,[8],[1.0])|(42,[0,1,10,22,24...|\n",
      "| 24|        1996|      0|     0|        0|        0|       0|     0|    0|          0|    1|      0|        0|     0|      0|      0|      0|     0|       1|  0|      0|     4| (1,[0],[1.0])|    (20,[8],[1.0])|(42,[0,1,10,22,31...|\n",
      "| 24|        1996|      0|     1|        1|        0|       0|     0|    1|          0|    0|      0|        0|     0|      0|      0|      0|     0|       0|  0|      0|     3| (1,[0],[1.0])|    (20,[8],[1.0])|(42,[0,1,10,22,24...|\n",
      "| 24|        1996|      0|     0|        0|        0|       0|     1|    0|          0|    0|      0|        0|     0|      0|      0|      0|     0|       0|  0|      0|     4| (1,[0],[1.0])|    (20,[8],[1.0])|(42,[0,1,10,22,28...|\n",
      "| 24|        1995|      0|     0|        0|        0|       0|     1|    0|          0|    0|      0|        0|     0|      0|      0|      0|     0|       0|  0|      0|     3| (1,[0],[1.0])|    (20,[8],[1.0])|(42,[0,1,10,22,28...|\n",
      "| 24|        1995|      0|     1|        0|        0|       0|     0|    0|          0|    0|      0|        0|     0|      0|      0|      0|     0|       0|  0|      0|     2| (1,[0],[1.0])|    (20,[8],[1.0])|(42,[0,1,10,22,24...|\n",
      "| 24|        1995|      0|     1|        0|        0|       0|     0|    0|          0|    1|      0|        0|     0|      0|      0|      0|     0|       1|  0|      0|     4| (1,[0],[1.0])|    (20,[8],[1.0])|(42,[0,1,10,22,24...|\n",
      "+---+------------+-------+------+---------+---------+--------+------+-----+-----------+-----+-------+---------+------+-------+-------+-------+------+--------+---+-------+------+--------------+------------------+--------------------+\n",
      "only showing top 20 rows\n",
      "\n"
     ]
    }
   ],
   "source": [
    "assembled_training.show()"
   ]
  },
  {
   "cell_type": "code",
   "execution_count": 38,
   "id": "8bda0ac9-6fe2-4b91-a732-7686c1bf5194",
   "metadata": {},
   "outputs": [],
   "source": [
    "# Now that 'features' holds all the information from our dataset it's all we need as independent variable\n",
    "final_train = assembled_training.select(\"features\", 'rating')"
   ]
  },
  {
   "cell_type": "markdown",
   "id": "944fe94a-443e-43b3-a016-7732f6c65948",
   "metadata": {},
   "source": [
    "**Testing dataset - OneHotEncoder, asembler**"
   ]
  },
  {
   "cell_type": "code",
   "execution_count": 39,
   "id": "1c677d34-ea05-48b7-a0dd-25ceec5726bc",
   "metadata": {},
   "outputs": [],
   "source": [
    "testing_data = encode_gender(test_data)\n",
    "testing_data = encode_occupation(testing_data)"
   ]
  },
  {
   "cell_type": "code",
   "execution_count": 40,
   "id": "ffed0126-72bb-4926-85de-66fc58ea5c7c",
   "metadata": {},
   "outputs": [
    {
     "data": {
      "text/plain": [
       "['age',\n",
       " 'release_year',\n",
       " 'unknown',\n",
       " 'Action',\n",
       " 'Adventure',\n",
       " 'Animation',\n",
       " 'Children',\n",
       " 'Comedy',\n",
       " 'Crime',\n",
       " 'Documentary',\n",
       " 'Drama',\n",
       " 'Fantasy',\n",
       " 'Film-Noir',\n",
       " 'Horror',\n",
       " 'Musical',\n",
       " 'Mystery',\n",
       " 'Romance',\n",
       " 'Sci-Fi',\n",
       " 'Thriller',\n",
       " 'War',\n",
       " 'Western',\n",
       " 'rating',\n",
       " 'gender_encoded',\n",
       " 'occupation_encoded']"
      ]
     },
     "execution_count": 40,
     "metadata": {},
     "output_type": "execute_result"
    }
   ],
   "source": [
    "testing_data.columns"
   ]
  },
  {
   "cell_type": "code",
   "execution_count": 41,
   "id": "a5e13456-8150-46d7-b77e-5f40fc758bab",
   "metadata": {},
   "outputs": [
    {
     "name": "stdout",
     "output_type": "stream",
     "text": [
      "+-------------------------------------------------------------------------+\n",
      "|features                                                                 |\n",
      "+-------------------------------------------------------------------------+\n",
      "|(42,[0,1,11,22,24,28,31],[24.0,1.0,1.0,1995.0,1.0,1.0,1.0])              |\n",
      "|(42,[0,1,11,22,29,31,39],[24.0,1.0,1.0,1995.0,1.0,1.0,1.0])              |\n",
      "|(42,[0,1,11,22,31],[24.0,1.0,1.0,1995.0,1.0])                            |\n",
      "|(42,[0,1,11,22,29,39],[24.0,1.0,1.0,1995.0,1.0,1.0])                     |\n",
      "|(42,[0,1,11,22,28],[24.0,1.0,1.0,1995.0,1.0])                            |\n",
      "|(42,[0,1,11,22,31],[24.0,1.0,1.0,1996.0,1.0])                            |\n",
      "|(42,[0,1,11,22,28,37],[24.0,1.0,1.0,1995.0,1.0,1.0])                     |\n",
      "|(42,[0,1,11,22,31],[24.0,1.0,1.0,1995.0,1.0])                            |\n",
      "|(42,[0,1,11,22,24,29,38],[24.0,1.0,1.0,1995.0,1.0,1.0,1.0])              |\n",
      "|(42,[0,1,11,22,28],[24.0,1.0,1.0,1994.0,1.0])                            |\n",
      "|(42,[0,1,11,22,24,25,37,38,40],[24.0,1.0,1.0,1977.0,1.0,1.0,1.0,1.0,1.0])|\n",
      "|(42,[0,1,11,22,29,31,37,39],[24.0,1.0,1.0,1994.0,1.0,1.0,1.0,1.0])       |\n",
      "|(42,[0,1,11,22,27,28],[24.0,1.0,1.0,1994.0,1.0,1.0])                     |\n",
      "|(42,[0,1,11,22,31],[24.0,1.0,1.0,1994.0,1.0])                            |\n",
      "|(42,[0,1,11,22,28],[24.0,1.0,1.0,1994.0,1.0])                            |\n",
      "|(42,[0,1,11,22,24,28,41],[24.0,1.0,1.0,1994.0,1.0,1.0,1.0])              |\n",
      "|(42,[0,1,11,22,24,28,31],[24.0,1.0,1.0,1965.0,1.0,1.0,1.0])              |\n",
      "|(42,[0,1,11,22,34,38],[24.0,1.0,1.0,1994.0,1.0,1.0])                     |\n",
      "|(42,[0,1,11,22,31],[24.0,1.0,1.0,1993.0,1.0])                            |\n",
      "|(42,[0,1,11,22,28,31],[24.0,1.0,1.0,1996.0,1.0,1.0])                     |\n",
      "+-------------------------------------------------------------------------+\n",
      "only showing top 20 rows\n",
      "\n"
     ]
    }
   ],
   "source": [
    "asembled_testing = assembler.transform(testing_data)\n",
    "asembled_testing.select(\"features\").show(truncate=False)"
   ]
  },
  {
   "cell_type": "code",
   "execution_count": 42,
   "id": "0825e466-a1e4-4f07-ad5c-bbaba49e7aae",
   "metadata": {},
   "outputs": [],
   "source": [
    "final_test = asembled_testing.select(\"features\", 'rating')"
   ]
  },
  {
   "cell_type": "markdown",
   "id": "366d0d25-e77d-488c-b6ed-93c128eaddb1",
   "metadata": {},
   "source": [
    "\n",
    "____________\n",
    "In this notebook we apply __*hybrid recommendation system*__ that combines:\n",
    "1. content based filttering for cold-start problems (for users with little to no interaction history) and\n",
    "2. collaborative filltering for users with known prefereneces\n",
    "____________\n",
    "*final_train* and *final_test* contain preprocessed data ready for the content-based recommendation model, while <br> *train_df* and *test_df* holds unprocessed data used for collaborative filttering  "
   ]
  },
  {
   "cell_type": "markdown",
   "id": "f7952fc7-ce4f-4bef-9858-8930d11837d8",
   "metadata": {},
   "source": [
    "## 3. Content-based recommendation system"
   ]
  },
  {
   "cell_type": "markdown",
   "id": "99b2e6db-b95e-4338-85ab-1a610c055a62",
   "metadata": {},
   "source": [
    "**Linear Regression**"
   ]
  },
  {
   "cell_type": "code",
   "execution_count": 43,
   "id": "10b133aa-9741-427c-825f-d5dc1883f1cf",
   "metadata": {},
   "outputs": [],
   "source": [
    "from pyspark.ml.regression import LinearRegression\n",
    "from pyspark.ml.tuning import ParamGridBuilder, CrossValidator\n",
    "from pyspark.ml.evaluation import RegressionEvaluator"
   ]
  },
  {
   "cell_type": "code",
   "execution_count": 44,
   "id": "68b0274b-6a5c-4ad7-8bfe-719cdea7f124",
   "metadata": {},
   "outputs": [
    {
     "name": "stdout",
     "output_type": "stream",
     "text": [
      "Root Mean Squared Error (RMSE) on test data = 1.08049\n",
      "Best Linear Model Hyperparameters:\n",
      "maxIter:  5\n",
      "regParam:  0.001\n",
      "elasticNetParam:  0.0\n"
     ]
    }
   ],
   "source": [
    "# Initialize the Linear Regression model\n",
    "lr = LinearRegression(featuresCol=\"features\", labelCol=\"rating\")\n",
    "\n",
    "# Define a grid of hyperparameters to search over\n",
    "paramGrid = ParamGridBuilder() \\\n",
    "            .addGrid(lr.maxIter, [5, 10, 50]) \\\n",
    "            .addGrid(lr.regParam, [0.1, 0.01, 0.001]) \\\n",
    "            .addGrid(lr.elasticNetParam, [0.0, 0.5, 1.0]) \\\n",
    "            .build()\n",
    "\n",
    "# Define an evaluator\n",
    "evaluator = RegressionEvaluator(metricName=\"rmse\", labelCol=lr.getLabelCol(), predictionCol=lr.getPredictionCol())\n",
    "\n",
    "# Initialize CrossValidator\n",
    "crossval = CrossValidator(estimator=lr,\n",
    "                          estimatorParamMaps=paramGrid,\n",
    "                          evaluator=evaluator,\n",
    "                          numFolds=5)\n",
    "\n",
    "cvModel = crossval.fit(final_train)\n",
    "predictions = cvModel.transform(final_test)\n",
    "\n",
    "# Evaluate the model\n",
    "rmse = evaluator.evaluate(predictions)\n",
    "print(\"Root Mean Squared Error (RMSE) on test data = %g\" % rmse)\n",
    "\n",
    "# Best model's hyperparameters\n",
    "best_maxIter = cvModel.bestModel._java_obj.getMaxIter()\n",
    "best_regParam = cvModel.bestModel._java_obj.getRegParam()\n",
    "best_elasticNetParam = cvModel.bestModel._java_obj.getElasticNetParam()\n",
    "\n",
    "print(\"Best Linear Model Hyperparameters:\")\n",
    "print(\"maxIter: \", best_maxIter)\n",
    "print(\"regParam: \", best_regParam)\n",
    "print(\"elasticNetParam: \", best_elasticNetParam)"
   ]
  },
  {
   "cell_type": "markdown",
   "id": "3ea5f57f-7d87-42b5-8d42-7e9620891d10",
   "metadata": {},
   "source": [
    "**Random Forest**"
   ]
  },
  {
   "cell_type": "code",
   "execution_count": 45,
   "id": "3225b687-03c4-442b-881c-6a7f1c43bed5",
   "metadata": {},
   "outputs": [],
   "source": [
    "from pyspark.ml.regression import RandomForestRegressor\n",
    "from pyspark.ml.tuning import ParamGridBuilder, CrossValidator\n",
    "from pyspark.ml.evaluation import RegressionEvaluator"
   ]
  },
  {
   "cell_type": "code",
   "execution_count": 46,
   "id": "8029f8e7-8997-42e0-bd14-895eff7642ef",
   "metadata": {},
   "outputs": [
    {
     "name": "stdout",
     "output_type": "stream",
     "text": [
      "Root Mean Squared Error (RMSE) on test data = 1.03129\n",
      "Best Random Forest Model Hyperparameters:\n",
      "numTrees: 50\n",
      "maxDepth: 15\n",
      "minInstancesPerNode: 5\n"
     ]
    }
   ],
   "source": [
    "# Initialize the Random Forest model\n",
    "rf = RandomForestRegressor(featuresCol=\"features\", labelCol=\"rating\")\n",
    "\n",
    "# Define a grid of hyperparameters to search over\n",
    "paramGrid = ParamGridBuilder() \\\n",
    "            .addGrid(rf.numTrees, [20, 30, 50]) \\\n",
    "            .addGrid(rf.maxDepth, [5, 10, 15]) \\\n",
    "            .addGrid(rf.minInstancesPerNode, [1, 5, 10]) \\\n",
    "            .build()\n",
    "\n",
    "# Define an evaluator\n",
    "evaluator = RegressionEvaluator(metricName=\"rmse\", labelCol=rf.getLabelCol(), predictionCol=rf.getPredictionCol())\n",
    "\n",
    "# Initialize CrossValidator\n",
    "crossval = CrossValidator(estimator=rf,\n",
    "                          estimatorParamMaps=paramGrid,\n",
    "                          evaluator=evaluator,\n",
    "                          numFolds=5)\n",
    "\n",
    "cvModel = crossval.fit(final_train)\n",
    "predictions = cvModel.transform(final_test)\n",
    "\n",
    "# Evaluate the model\n",
    "rmse = evaluator.evaluate(predictions)\n",
    "print(\"Root Mean Squared Error (RMSE) on test data = %g\" % rmse)\n",
    "\n",
    "# Best model's hyperparameters\n",
    "best_numTrees = cvModel.bestModel.getNumTrees\n",
    "best_maxDepth = cvModel.bestModel.getOrDefault(\"maxDepth\")\n",
    "best_minInstancesPerNode = cvModel.bestModel.getOrDefault(\"minInstancesPerNode\")\n",
    "\n",
    "print(\"Best Random Forest Model Hyperparameters:\")\n",
    "print(\"numTrees:\", best_numTrees)\n",
    "print(\"maxDepth:\", best_maxDepth)\n",
    "print(\"minInstancesPerNode:\", best_minInstancesPerNode)"
   ]
  },
  {
   "cell_type": "markdown",
   "id": "89991dc3-d629-465f-91b6-0605a4fb8484",
   "metadata": {
    "tags": []
   },
   "source": [
    "---\n",
    "The best Random Forest model had a slightly better RMSE than the best Linear Regressor. <br>\n",
    "However, since the improvement was minimal while it took much more time to train and make predictions, I chose Linear Regression as the final model for content-based recommender."
   ]
  },
  {
   "cell_type": "code",
   "execution_count": 47,
   "id": "1d10781a-a5a8-4c70-bf31-56e93859868a",
   "metadata": {},
   "outputs": [],
   "source": [
    "lr = LinearRegression(maxIter=best_maxIter,\n",
    "                     regParam=best_regParam,\n",
    "                     elasticNetParam=best_elasticNetParam,\n",
    "                     featuresCol=\"features\",\n",
    "                     labelCol=\"rating\")\n",
    "\n",
    "lr_model = lr.fit(final_train)"
   ]
  },
  {
   "cell_type": "markdown",
   "id": "de54d667-87c7-4053-932a-fe47c99fc8b4",
   "metadata": {},
   "source": [
    "**Implementing the model**"
   ]
  },
  {
   "cell_type": "markdown",
   "id": "d5bd9b01-b867-444f-bc7b-d49ed7e220a2",
   "metadata": {},
   "source": [
    "Creating dataset top 50 movies. <br>\n",
    "This serves to limit the recommendation space to the 50 most watched movies, because those are interesting for evaluating preferences."
   ]
  },
  {
   "cell_type": "code",
   "execution_count": 48,
   "id": "44c54e39-716a-4ac3-8189-6b01ff1fce41",
   "metadata": {},
   "outputs": [
    {
     "name": "stdout",
     "output_type": "stream",
     "text": [
      "+--------+--------------------------------+------------+------------------+---------------------------------------------------------------------------+-------+------+---------+---------+--------+------+-----+-----------+-----+-------+---------+------+-------+-------+-------+------+--------+---+-------+-----------+\n",
      "|movie_id|title                           |release_date|video_release_date|IMDb_URL                                                                   |unknown|Action|Adventure|Animation|Children|Comedy|Crime|Documentary|Drama|Fantasy|Film-Noir|Horror|Musical|Mystery|Romance|Sci-Fi|Thriller|War|Western|num_ratings|\n",
      "+--------+--------------------------------+------------+------------------+---------------------------------------------------------------------------+-------+------+---------+---------+--------+------+-----+-----------+-----+-------+---------+------+-------+-------+-------+------+--------+---+-------+-----------+\n",
      "|50      |Star Wars (1977)                |01-Jan-1977 |null              |http://us.imdb.com/M/title-exact?Star%20Wars%20(1977)                      |0      |1     |1        |0        |0       |0     |0    |0          |0    |0      |0        |0     |0      |0      |1      |1     |0       |1  |0      |583        |\n",
      "|258     |Contact (1997)                  |11-Jul-1997 |null              |http://us.imdb.com/Title?Contact+(1997/I)                                  |0      |0     |0        |0        |0       |0     |0    |0          |1    |0      |0        |0     |0      |0      |0      |1     |0       |0  |0      |509        |\n",
      "|100     |Fargo (1996)                    |14-Feb-1997 |null              |http://us.imdb.com/M/title-exact?Fargo%20(1996)                            |0      |0     |0        |0        |0       |0     |1    |0          |1    |0      |0        |0     |0      |0      |0      |0     |1       |0  |0      |508        |\n",
      "|181     |Return of the Jedi (1983)       |14-Mar-1997 |null              |http://us.imdb.com/M/title-exact?Return%20of%20the%20Jedi%20(1983)         |0      |1     |1        |0        |0       |0     |0    |0          |0    |0      |0        |0     |0      |0      |1      |1     |0       |1  |0      |507        |\n",
      "|294     |Liar Liar (1997)                |21-Mar-1997 |null              |http://us.imdb.com/Title?Liar+Liar+(1997)                                  |0      |0     |0        |0        |0       |1     |0    |0          |0    |0      |0        |0     |0      |0      |0      |0     |0       |0  |0      |485        |\n",
      "|286     |English Patient, The (1996)     |15-Nov-1996 |null              |http://us.imdb.com/M/title-exact?English%20Patient,%20The%20(1996)         |0      |0     |0        |0        |0       |0     |0    |0          |1    |0      |0        |0     |0      |0      |1      |0     |0       |1  |0      |481        |\n",
      "|288     |Scream (1996)                   |20-Dec-1996 |null              |http://us.imdb.com/M/title-exact?Scream%20(1996)                           |0      |0     |0        |0        |0       |0     |0    |0          |0    |0      |0        |1     |0      |0      |0      |0     |1       |0  |0      |478        |\n",
      "|1       |Toy Story (1995)                |01-Jan-1995 |null              |http://us.imdb.com/M/title-exact?Toy%20Story%20(1995)                      |0      |0     |0        |1        |1       |1     |0    |0          |0    |0      |0        |0     |0      |0      |0      |0     |0       |0  |0      |452        |\n",
      "|300     |Air Force One (1997)            |01-Jan-1997 |null              |http://us.imdb.com/M/title-exact?Air+Force+One+(1997)                      |0      |1     |0        |0        |0       |0     |0    |0          |0    |0      |0        |0     |0      |0      |0      |0     |1       |0  |0      |431        |\n",
      "|121     |Independence Day (ID4) (1996)   |03-Jul-1996 |null              |http://us.imdb.com/M/title-exact?Independence%20Day%20(1996)               |0      |1     |0        |0        |0       |0     |0    |0          |0    |0      |0        |0     |0      |0      |0      |1     |0       |1  |0      |429        |\n",
      "|174     |Raiders of the Lost Ark (1981)  |01-Jan-1981 |null              |http://us.imdb.com/M/title-exact?Raiders%20of%20the%20Lost%20Ark%20(1981)  |0      |1     |1        |0        |0       |0     |0    |0          |0    |0      |0        |0     |0      |0      |0      |0     |0       |0  |0      |420        |\n",
      "|127     |Godfather, The (1972)           |01-Jan-1972 |null              |http://us.imdb.com/M/title-exact?Godfather,%20The%20(1972)                 |0      |1     |0        |0        |0       |0     |1    |0          |1    |0      |0        |0     |0      |0      |0      |0     |0       |0  |0      |413        |\n",
      "|56      |Pulp Fiction (1994)             |01-Jan-1994 |null              |http://us.imdb.com/M/title-exact?Pulp%20Fiction%20(1994)                   |0      |0     |0        |0        |0       |0     |1    |0          |1    |0      |0        |0     |0      |0      |0      |0     |0       |0  |0      |394        |\n",
      "|7       |Twelve Monkeys (1995)           |01-Jan-1995 |null              |http://us.imdb.com/M/title-exact?Twelve%20Monkeys%20(1995)                 |0      |0     |0        |0        |0       |0     |0    |0          |1    |0      |0        |0     |0      |0      |0      |1     |0       |0  |0      |392        |\n",
      "|98      |Silence of the Lambs, The (1991)|01-Jan-1991 |null              |http://us.imdb.com/M/title-exact?Silence%20of%20the%20Lambs,%20The%20(1991)|0      |0     |0        |0        |0       |0     |0    |0          |1    |0      |0        |0     |0      |0      |0      |0     |1       |0  |0      |390        |\n",
      "|237     |Jerry Maguire (1996)            |13-Dec-1996 |null              |http://us.imdb.com/M/title-exact?Jerry%20Maguire%20(1996)                  |0      |0     |0        |0        |0       |0     |0    |0          |1    |0      |0        |0     |0      |0      |1      |0     |0       |0  |0      |384        |\n",
      "|117     |Rock, The (1996)                |07-Jun-1996 |null              |http://us.imdb.com/M/title-exact?Rock,%20The%20(1996)                      |0      |1     |1        |0        |0       |0     |0    |0          |0    |0      |0        |0     |0      |0      |0      |0     |1       |0  |0      |378        |\n",
      "|172     |Empire Strikes Back, The (1980) |01-Jan-1980 |null              |http://us.imdb.com/M/title-exact?Empire%20Strikes%20Back,%20The%20(1980)   |0      |1     |1        |0        |0       |0     |0    |0          |1    |0      |0        |0     |0      |0      |1      |1     |0       |1  |0      |367        |\n",
      "|222     |Star Trek: First Contact (1996) |22-Nov-1996 |null              |http://us.imdb.com/M/title-exact?Star%20Trek:%20First%20Contact%20(1996)   |0      |1     |1        |0        |0       |0     |0    |0          |0    |0      |0        |0     |0      |0      |0      |1     |0       |0  |0      |365        |\n",
      "|204     |Back to the Future (1985)       |01-Jan-1985 |null              |http://us.imdb.com/M/title-exact?Back%20to%20the%20Future%20(1985)         |0      |0     |0        |0        |0       |1     |0    |0          |0    |0      |0        |0     |0      |0      |0      |1     |0       |0  |0      |350        |\n",
      "+--------+--------------------------------+------------+------------------+---------------------------------------------------------------------------+-------+------+---------+---------+--------+------+-----+-----------+-----+-------+---------+------+-------+-------+-------+------+--------+---+-------+-----------+\n",
      "only showing top 20 rows\n",
      "\n"
     ]
    }
   ],
   "source": [
    "# Count the number of ratings for each movie\n",
    "ratings_count_df = ratings_df.groupBy(\"movie_id\").agg(f.count(\"rating\").alias(\"num_ratings\"))\n",
    "\n",
    "# Join the ratings count with the movies DataFrame\n",
    "popular_movies_df = movies_df.join(ratings_count_df, on=\"movie_id\")\n",
    "\n",
    "# Create a new DataFrame with the top 50 most popular movies based on the number of ratings\n",
    "popular_movies_df = popular_movies_df.orderBy(f.desc(\"num_ratings\")).limit(50)\n",
    "\n",
    "popular_movies_df.show(truncate=False)"
   ]
  },
  {
   "cell_type": "code",
   "execution_count": 49,
   "id": "ee615282-dc07-4143-9fbb-7672d2a1a89f",
   "metadata": {},
   "outputs": [
    {
     "data": {
      "text/plain": [
       "['movie_id',\n",
       " 'title',\n",
       " 'release_date',\n",
       " 'video_release_date',\n",
       " 'IMDb_URL',\n",
       " 'unknown',\n",
       " 'Action',\n",
       " 'Adventure',\n",
       " 'Animation',\n",
       " 'Children',\n",
       " 'Comedy',\n",
       " 'Crime',\n",
       " 'Documentary',\n",
       " 'Drama',\n",
       " 'Fantasy',\n",
       " 'Film-Noir',\n",
       " 'Horror',\n",
       " 'Musical',\n",
       " 'Mystery',\n",
       " 'Romance',\n",
       " 'Sci-Fi',\n",
       " 'Thriller',\n",
       " 'War',\n",
       " 'Western',\n",
       " 'num_ratings']"
      ]
     },
     "execution_count": 49,
     "metadata": {},
     "output_type": "execute_result"
    }
   ],
   "source": [
    "popular_movies_df.columns"
   ]
  },
  {
   "cell_type": "code",
   "execution_count": 50,
   "id": "58d6797e-31c8-457c-bc19-8071a0563ae8",
   "metadata": {},
   "outputs": [
    {
     "name": "stdout",
     "output_type": "stream",
     "text": [
      "+-------------------------+------------+\n",
      "|title                    |release_year|\n",
      "+-------------------------+------------+\n",
      "|Star Wars (1977)         |1977        |\n",
      "|Contact (1997)           |1997        |\n",
      "|Fargo (1996)             |1997        |\n",
      "|Return of the Jedi (1983)|1997        |\n",
      "|Liar Liar (1997)         |1997        |\n",
      "+-------------------------+------------+\n",
      "only showing top 5 rows\n",
      "\n"
     ]
    }
   ],
   "source": [
    "# Extract the year from the title column\n",
    "popular_movies_df = extract_year(popular_movies_df)\n",
    "\n",
    "popular_movies_df.select(\"title\", \"release_year\").show(n=5, truncate=False)"
   ]
  },
  {
   "cell_type": "code",
   "execution_count": 51,
   "id": "dcdb8731-692c-4997-b877-0564ce8e6284",
   "metadata": {},
   "outputs": [
    {
     "name": "stdout",
     "output_type": "stream",
     "text": [
      "+--------+-----+------------+------------------+--------+-------+------+---------+---------+--------+------+-----+-----------+-----+-------+---------+------+-------+-------+-------+------+--------+---+-------+-----------+------------+\n",
      "|movie_id|title|release_date|video_release_date|IMDb_URL|unknown|Action|Adventure|Animation|Children|Comedy|Crime|Documentary|Drama|Fantasy|Film-Noir|Horror|Musical|Mystery|Romance|Sci-Fi|Thriller|War|Western|num_ratings|release_year|\n",
      "+--------+-----+------------+------------------+--------+-------+------+---------+---------+--------+------+-----+-----------+-----+-------+---------+------+-------+-------+-------+------+--------+---+-------+-----------+------------+\n",
      "|       0|    0|           0|                50|       0|      0|     0|        0|        0|       0|     0|    0|          0|    0|      0|        0|     0|      0|      0|      0|     0|       0|  0|      0|          0|           0|\n",
      "+--------+-----+------------+------------------+--------+-------+------+---------+---------+--------+------+-----+-----------+-----+-------+---------+------+-------+-------+-------+------+--------+---+-------+-----------+------------+\n",
      "\n"
     ]
    }
   ],
   "source": [
    "null_counts(popular_movies_df)"
   ]
  },
  {
   "cell_type": "code",
   "execution_count": 52,
   "id": "8ade918e-9741-4be9-be26-9eb56887248f",
   "metadata": {},
   "outputs": [
    {
     "name": "stdout",
     "output_type": "stream",
     "text": [
      "+--------+--------------------+------------+-------+------+---------+---------+--------+------+-----+-----------+-----+-------+---------+------+-------+-------+-------+------+--------+---+-------+\n",
      "|movie_id|               title|release_year|unknown|Action|Adventure|Animation|Children|Comedy|Crime|Documentary|Drama|Fantasy|Film-Noir|Horror|Musical|Mystery|Romance|Sci-Fi|Thriller|War|Western|\n",
      "+--------+--------------------+------------+-------+------+---------+---------+--------+------+-----+-----------+-----+-------+---------+------+-------+-------+-------+------+--------+---+-------+\n",
      "|      50|    Star Wars (1977)|        1977|      0|     1|        1|        0|       0|     0|    0|          0|    0|      0|        0|     0|      0|      0|      1|     1|       0|  1|      0|\n",
      "|     258|      Contact (1997)|        1997|      0|     0|        0|        0|       0|     0|    0|          0|    1|      0|        0|     0|      0|      0|      0|     1|       0|  0|      0|\n",
      "|     100|        Fargo (1996)|        1997|      0|     0|        0|        0|       0|     0|    1|          0|    1|      0|        0|     0|      0|      0|      0|     0|       1|  0|      0|\n",
      "|     181|Return of the Jed...|        1997|      0|     1|        1|        0|       0|     0|    0|          0|    0|      0|        0|     0|      0|      0|      1|     1|       0|  1|      0|\n",
      "|     294|    Liar Liar (1997)|        1997|      0|     0|        0|        0|       0|     1|    0|          0|    0|      0|        0|     0|      0|      0|      0|     0|       0|  0|      0|\n",
      "+--------+--------------------+------------+-------+------+---------+---------+--------+------+-----+-----------+-----+-------+---------+------+-------+-------+-------+------+--------+---+-------+\n",
      "only showing top 5 rows\n",
      "\n"
     ]
    }
   ],
   "source": [
    "top50_df = popular_movies_df.select(\"movie_id\", \"title\", \"release_year\",\n",
    "                                    \"unknown\", \"Action\", \"Adventure\", \"Animation\", \"Children\",\n",
    "                                    \"Comedy\", \"Crime\", \"Documentary\", \"Drama\", \"Fantasy\", \"Film-Noir\", \"Horror\",\n",
    "                                    \"Musical\", \"Mystery\", \"Romance\", \"Sci-Fi\", \"Thriller\", \"War\", \"Western\")\n",
    "\n",
    "top50_df.show(5)"
   ]
  },
  {
   "cell_type": "markdown",
   "id": "a5c015a0-a6b2-4a07-9f6f-df81354ef364",
   "metadata": {},
   "source": [
    "---\n",
    "Columns *movie_id* and *title* will not go into the model, but we are keeping them here so we can retrieve and display the movie titles when generating recommendations"
   ]
  },
  {
   "cell_type": "code",
   "execution_count": 53,
   "id": "2a8079f7-dcd4-4a29-a924-f234c0eb9687",
   "metadata": {},
   "outputs": [
    {
     "data": {
      "text/plain": [
       "['user_id',\n",
       " 'age',\n",
       " 'zip_code',\n",
       " 'age_category',\n",
       " 'gender_encoded',\n",
       " 'occupation_encoded']"
      ]
     },
     "execution_count": 53,
     "metadata": {},
     "output_type": "execute_result"
    }
   ],
   "source": [
    "# Encoding user gender and occupation\n",
    "encoded_users = encode_gender(users_df)\n",
    "encoded_users = encode_occupation(encoded_users)\n",
    "encoded_users.columns"
   ]
  },
  {
   "cell_type": "markdown",
   "id": "d2b07e78-d000-46ca-aa55-0fd176309c0b",
   "metadata": {},
   "source": [
    "**Creating predictions**"
   ]
  },
  {
   "cell_type": "code",
   "execution_count": 54,
   "id": "6227e154-8247-4eff-a257-9fb5157fc46f",
   "metadata": {},
   "outputs": [],
   "source": [
    "from pyspark.sql.functions import udf\n",
    "from pyspark.ml.linalg import VectorUDT"
   ]
  },
  {
   "cell_type": "code",
   "execution_count": 55,
   "id": "6034d024-b9d3-4843-b067-c8bc8f67d0ae",
   "metadata": {},
   "outputs": [],
   "source": [
    "def get_user_info(user_id):\n",
    "    '''\n",
    "    Retrieves the user information for a given user ID.\n",
    "\n",
    "    Returns:\n",
    "    Row: The first matching row from the DataFrame (contains 'gender_encoded', 'occupation_encoded', 'age').\n",
    "    '''\n",
    "    user_info = encoded_users.filter(encoded_users.user_id == user_id) \\\n",
    "                                    .select('gender_encoded', 'occupation_encoded', 'age') \\\n",
    "                                    .collect()\n",
    "    return user_info[0]"
   ]
  },
  {
   "cell_type": "code",
   "execution_count": 56,
   "id": "a1ca38f5-efee-4828-bbd0-1883536f90e1",
   "metadata": {},
   "outputs": [],
   "source": [
    "def create_df_for_model(user_id):\n",
    "    '''\n",
    "    Creates a DataFrame with features for model training based on user information.\n",
    "\n",
    "    Parameters:\n",
    "    user_id (int): The unique identifier of the user for whom the recommendation model is being created.\n",
    "\n",
    "    Returns:\n",
    "    DataFrame: A new DataFrame for recommendation modeling that includes columns for gender, occupation, and age for the user.\n",
    "    '''\n",
    "    # Retrieve user information (gender, occupation, age) based on user_id\n",
    "    gender_encoded, occupation_encoded, age = get_user_info(user_id)\n",
    "    \n",
    "    # Define User Defined Functions (UDFs) to convert the encoded gender and occupation to a Vector\n",
    "    gender_encoded_udf = udf(lambda: gender_encoded, VectorUDT())\n",
    "    occupation_encoded_udf = udf(lambda: occupation_encoded, VectorUDT())\n",
    "\n",
    "    # Select columns from top50_df excluding 'title' and 'movie_id' for the recommendation model\n",
    "    selected_columns = [col for col in top50_df.columns if col not in [\"title\", \"movie_id\"]]\n",
    "    top50_movies_df = top50_df.select(selected_columns)\n",
    "\n",
    "    # Add the user-specific information to the DataFrame: gender, occupation, and age\n",
    "    recomendation_df = top50_movies_df.withColumn(\"gender_encoded\", gender_encoded_udf())\n",
    "    recomendation_df = recomendation_df.withColumn(\"occupation_encoded\", occupation_encoded_udf())\n",
    "    recomendation_df = recomendation_df.withColumn(\"age\", f.lit(age))\n",
    "    \n",
    "    # Return the modified DataFrame for the recommendation model    \n",
    "    return recomendation_df"
   ]
  },
  {
   "cell_type": "code",
   "execution_count": 57,
   "id": "1527c4da-b5c8-42b0-875c-613669b4f0a7",
   "metadata": {},
   "outputs": [
    {
     "name": "stdout",
     "output_type": "stream",
     "text": [
      "+------------+-------+------+---------+---------+--------+------+-----+-----------+-----+-------+---------+------+-------+-------+-------+------+--------+---+-------+--------------+------------------+---+\n",
      "|release_year|unknown|Action|Adventure|Animation|Children|Comedy|Crime|Documentary|Drama|Fantasy|Film-Noir|Horror|Musical|Mystery|Romance|Sci-Fi|Thriller|War|Western|gender_encoded|occupation_encoded|age|\n",
      "+------------+-------+------+---------+---------+--------+------+-----+-----------+-----+-------+---------+------+-------+-------+-------+------+--------+---+-------+--------------+------------------+---+\n",
      "|        1977|      0|     1|        1|        0|       0|     0|    0|          0|    0|      0|        0|     0|      0|      0|      1|     1|       0|  1|      0| (1,[0],[1.0])|   (20,[11],[1.0])| 24|\n",
      "|        1997|      0|     0|        0|        0|       0|     0|    0|          0|    1|      0|        0|     0|      0|      0|      0|     1|       0|  0|      0| (1,[0],[1.0])|   (20,[11],[1.0])| 24|\n",
      "|        1997|      0|     0|        0|        0|       0|     0|    1|          0|    1|      0|        0|     0|      0|      0|      0|     0|       1|  0|      0| (1,[0],[1.0])|   (20,[11],[1.0])| 24|\n",
      "|        1997|      0|     1|        1|        0|       0|     0|    0|          0|    0|      0|        0|     0|      0|      0|      1|     1|       0|  1|      0| (1,[0],[1.0])|   (20,[11],[1.0])| 24|\n",
      "|        1997|      0|     0|        0|        0|       0|     1|    0|          0|    0|      0|        0|     0|      0|      0|      0|     0|       0|  0|      0| (1,[0],[1.0])|   (20,[11],[1.0])| 24|\n",
      "|        1996|      0|     0|        0|        0|       0|     0|    0|          0|    1|      0|        0|     0|      0|      0|      1|     0|       0|  1|      0| (1,[0],[1.0])|   (20,[11],[1.0])| 24|\n",
      "|        1996|      0|     0|        0|        0|       0|     0|    0|          0|    0|      0|        0|     1|      0|      0|      0|     0|       1|  0|      0| (1,[0],[1.0])|   (20,[11],[1.0])| 24|\n",
      "|        1995|      0|     0|        0|        1|       1|     1|    0|          0|    0|      0|        0|     0|      0|      0|      0|     0|       0|  0|      0| (1,[0],[1.0])|   (20,[11],[1.0])| 24|\n",
      "|        1997|      0|     1|        0|        0|       0|     0|    0|          0|    0|      0|        0|     0|      0|      0|      0|     0|       1|  0|      0| (1,[0],[1.0])|   (20,[11],[1.0])| 24|\n",
      "|        1996|      0|     1|        0|        0|       0|     0|    0|          0|    0|      0|        0|     0|      0|      0|      0|     1|       0|  1|      0| (1,[0],[1.0])|   (20,[11],[1.0])| 24|\n",
      "|        1981|      0|     1|        1|        0|       0|     0|    0|          0|    0|      0|        0|     0|      0|      0|      0|     0|       0|  0|      0| (1,[0],[1.0])|   (20,[11],[1.0])| 24|\n",
      "|        1972|      0|     1|        0|        0|       0|     0|    1|          0|    1|      0|        0|     0|      0|      0|      0|     0|       0|  0|      0| (1,[0],[1.0])|   (20,[11],[1.0])| 24|\n",
      "|        1994|      0|     0|        0|        0|       0|     0|    1|          0|    1|      0|        0|     0|      0|      0|      0|     0|       0|  0|      0| (1,[0],[1.0])|   (20,[11],[1.0])| 24|\n",
      "|        1995|      0|     0|        0|        0|       0|     0|    0|          0|    1|      0|        0|     0|      0|      0|      0|     1|       0|  0|      0| (1,[0],[1.0])|   (20,[11],[1.0])| 24|\n",
      "|        1991|      0|     0|        0|        0|       0|     0|    0|          0|    1|      0|        0|     0|      0|      0|      0|     0|       1|  0|      0| (1,[0],[1.0])|   (20,[11],[1.0])| 24|\n",
      "|        1996|      0|     0|        0|        0|       0|     0|    0|          0|    1|      0|        0|     0|      0|      0|      1|     0|       0|  0|      0| (1,[0],[1.0])|   (20,[11],[1.0])| 24|\n",
      "|        1996|      0|     1|        1|        0|       0|     0|    0|          0|    0|      0|        0|     0|      0|      0|      0|     0|       1|  0|      0| (1,[0],[1.0])|   (20,[11],[1.0])| 24|\n",
      "|        1980|      0|     1|        1|        0|       0|     0|    0|          0|    1|      0|        0|     0|      0|      0|      1|     1|       0|  1|      0| (1,[0],[1.0])|   (20,[11],[1.0])| 24|\n",
      "|        1996|      0|     1|        1|        0|       0|     0|    0|          0|    0|      0|        0|     0|      0|      0|      0|     1|       0|  0|      0| (1,[0],[1.0])|   (20,[11],[1.0])| 24|\n",
      "|        1985|      0|     0|        0|        0|       0|     1|    0|          0|    0|      0|        0|     0|      0|      0|      0|     1|       0|  0|      0| (1,[0],[1.0])|   (20,[11],[1.0])| 24|\n",
      "+------------+-------+------+---------+---------+--------+------+-----+-----------+-----+-------+---------+------+-------+-------+-------+------+--------+---+-------+--------------+------------------+---+\n",
      "only showing top 20 rows\n",
      "\n"
     ]
    }
   ],
   "source": [
    "# Function simulation\n",
    "create_df_for_model(1).show()"
   ]
  },
  {
   "cell_type": "code",
   "execution_count": 58,
   "id": "62f52fde-c5b2-44b9-8bf1-a0524cddf0a1",
   "metadata": {},
   "outputs": [],
   "source": [
    "def get_user_ratings(user_id):\n",
    "    '''\n",
    "    Generates movie ratings predictions for a given user based on a recommendation model.\n",
    "\n",
    "    Parameters:\n",
    "    user_id (int): The unique identifier of the user for whom the ratings are being predicted.\n",
    "\n",
    "    Returns:\n",
    "    DataFrame: A DataFrame containing the predicted ratings for the user.\n",
    "    '''\n",
    "    # Create the DataFrame for the user containing movie features\n",
    "    dataframe = create_df_for_model(user_id)\n",
    "\n",
    "    # Transform the DataFrame to assemble the features into a single vector\n",
    "    output = assembler.transform(dataframe)\n",
    "\n",
    "    # Select the 'features' column from the transformed DataFrame\n",
    "    unlabeled_data = output.select(\"features\")\n",
    "    \n",
    "    # Use the trained recommendation model to predict ratings for the user\n",
    "    predictions_for_user = lr_model.transform(unlabeled_data)\n",
    "\n",
    "    # Return the DataFrame containing the predicted ratings\n",
    "    return predictions_for_user"
   ]
  },
  {
   "cell_type": "code",
   "execution_count": 59,
   "id": "cd32f3b9-d496-421b-8610-61acfc3e0681",
   "metadata": {},
   "outputs": [
    {
     "name": "stdout",
     "output_type": "stream",
     "text": [
      "+--------------------------------------------------------------------------------+------------------+\n",
      "|features                                                                        |prediction        |\n",
      "+--------------------------------------------------------------------------------+------------------+\n",
      "|(42,[0,1,13,22,24,25,37,38,40],[24.0,1.0,1.0,1977.0,1.0,1.0,1.0,1.0,1.0])       |3.916140356976399 |\n",
      "|(42,[0,1,13,22,31,38],[24.0,1.0,1.0,1997.0,1.0,1.0])                            |3.6056849540271294|\n",
      "|(42,[0,1,13,22,29,31,39],[24.0,1.0,1.0,1997.0,1.0,1.0,1.0])                     |3.7033074843830107|\n",
      "|(42,[0,1,13,22,24,25,37,38,40],[24.0,1.0,1.0,1997.0,1.0,1.0,1.0,1.0,1.0])       |3.63433229994099  |\n",
      "|(42,[0,1,13,22,28],[24.0,1.0,1.0,1997.0,1.0])                                   |3.2060523970543464|\n",
      "|(42,[0,1,13,22,31,37,40],[24.0,1.0,1.0,1996.0,1.0,1.0,1.0])                     |3.7967793102602485|\n",
      "|(42,[0,1,13,22,34,39],[24.0,1.0,1.0,1996.0,1.0,1.0])                            |3.1338158209204288|\n",
      "|(42,[0,1,13,22,26,27,28],[24.0,1.0,1.0,1995.0,1.0,1.0,1.0])                     |3.3708655457639694|\n",
      "|(42,[0,1,13,22,24,39],[24.0,1.0,1.0,1997.0,1.0,1.0])                            |3.2786596764537457|\n",
      "|(42,[0,1,13,22,24,38,40],[24.0,1.0,1.0,1996.0,1.0,1.0,1.0])                     |3.495284537942748 |\n",
      "|(42,[0,1,13,22,24,25],[24.0,1.0,1.0,1981.0,1.0,1.0])                            |3.474457813068753 |\n",
      "|(42,[0,1,13,22,24,29,31],[24.0,1.0,1.0,1972.0,1.0,1.0,1.0])                     |3.9790089157570705|\n",
      "|(42,[0,1,13,22,29,31],[24.0,1.0,1.0,1994.0,1.0,1.0])                            |3.67273866082882  |\n",
      "|(42,[0,1,13,22,31,38],[24.0,1.0,1.0,1995.0,1.0,1.0])                            |3.6338657597306714|\n",
      "|(42,[0,1,13,22,31,39],[24.0,1.0,1.0,1991.0,1.0,1.0])                            |3.6589089136876467|\n",
      "|(42,[0,1,13,22,31,37],[24.0,1.0,1.0,1996.0,1.0,1.0])                            |3.6255633090731223|\n",
      "|(42,[0,1,13,22,24,25,39],[24.0,1.0,1.0,1996.0,1.0,1.0,1.0])                     |3.335941802401699 |\n",
      "|(42,[0,1,13,22,24,25,31,37,38,40],[24.0,1.0,1.0,1980.0,1.0,1.0,1.0,1.0,1.0,1.0])|4.165857360733671 |\n",
      "|(42,[0,1,13,22,24,25,38],[24.0,1.0,1.0,1996.0,1.0,1.0,1.0])                     |3.367260259851804 |\n",
      "|(42,[0,1,13,22,28,38],[24.0,1.0,1.0,1985.0,1.0,1.0])                            |3.4792957208352   |\n",
      "+--------------------------------------------------------------------------------+------------------+\n",
      "only showing top 20 rows\n",
      "\n"
     ]
    }
   ],
   "source": [
    "#Function simulation\n",
    "get_user_ratings(1).show(truncate=False)"
   ]
  },
  {
   "cell_type": "code",
   "execution_count": 60,
   "id": "f1527b1f-66c6-487b-a923-bb5472b8825b",
   "metadata": {},
   "outputs": [],
   "source": [
    "def get_user_recommendation(user_id):\n",
    "    '''\n",
    "    Generates movie recommendations for a given user based on predicted ratings.\n",
    "\n",
    "    Parameters:\n",
    "    user_id (int): The unique identifier of the user for whom the movie recommendations are being generated.\n",
    "\n",
    "    Returns:\n",
    "    DataFrame: A DataFrame containing the top movie recommendations for the user, sorted by predicted ratings.\n",
    "    \n",
    "    '''\n",
    "    \n",
    "    # Retrieve predicted ratings for the user\n",
    "    predictions_for_user = get_user_ratings(user_id)\n",
    "\n",
    "    # Add an index column to both predictions and movie data to facilitate joining\n",
    "    df1_with_index = predictions_for_user.withColumn(\"row_index\", f.monotonically_increasing_id())\n",
    "    df2_with_index = top50_df.withColumn(\"row_index\", f.monotonically_increasing_id())\n",
    "\n",
    "    # Join the predictions with the top50_df to get info about movies ids and titles\n",
    "    merged_df = df1_with_index.join(df2_with_index, on=\"row_index\").drop(\"row_index\")\n",
    "\n",
    "    # Order the merged DataFrame by predicted ratings in descending order and select relevant columns\n",
    "    merged_df = merged_df.orderBy(f.desc(\"prediction\")) \\\n",
    "                         .select(f.lit(user_id).alias(\"user_id\"),\"movie_id\",\"prediction\")\n",
    "    \n",
    "    # Return the DataFrame containing the recommended movies with predicted ratings\n",
    "    return merged_df"
   ]
  },
  {
   "cell_type": "code",
   "execution_count": 61,
   "id": "c080fc8e-f4c0-4fb9-9faa-1fbae018dabd",
   "metadata": {},
   "outputs": [
    {
     "name": "stdout",
     "output_type": "stream",
     "text": [
      "+-------+--------+------------------+\n",
      "|user_id|movie_id|        prediction|\n",
      "+-------+--------+------------------+\n",
      "|      1|     172| 4.165857360733671|\n",
      "|      1|     127|3.9790089157570705|\n",
      "|      1|      50| 3.916140356976399|\n",
      "|      1|     286|3.7967793102602485|\n",
      "|      1|     191| 3.743808356302406|\n",
      "|      1|     318|3.7291040770617307|\n",
      "|      1|     176| 3.709028598569958|\n",
      "|      1|     100|3.7033074843830107|\n",
      "|      1|      22| 3.683114260695721|\n",
      "|      1|      56|  3.67273866082882|\n",
      "|      1|     302|3.6630322904608086|\n",
      "|      1|      98|3.6589089136876467|\n",
      "|      1|     276|3.6396537119248933|\n",
      "|      1|     181|  3.63433229994099|\n",
      "|      1|       7|3.6338657597306714|\n",
      "|      1|     237|3.6255633090731223|\n",
      "|      1|     313|3.6077542984106543|\n",
      "|      1|     258|3.6056849540271294|\n",
      "|      1|     195|3.5659934030863703|\n",
      "|      1|      64|3.5437976730228335|\n",
      "+-------+--------+------------------+\n",
      "only showing top 20 rows\n",
      "\n"
     ]
    }
   ],
   "source": [
    "# Function simulation\n",
    "get_user_recommendation(1).show()"
   ]
  },
  {
   "cell_type": "markdown",
   "id": "913ab47f-00a6-49ff-960c-aedf82b4d783",
   "metadata": {},
   "source": [
    "## 4. Collaborative filtering recommendation system"
   ]
  },
  {
   "cell_type": "markdown",
   "id": "e43f486f-f855-4147-bfff-76d5b159f1cd",
   "metadata": {},
   "source": [
    "**Alternating Least Squares**"
   ]
  },
  {
   "cell_type": "code",
   "execution_count": 62,
   "id": "382ae968-6387-4a31-926f-a01a2b495a0c",
   "metadata": {},
   "outputs": [],
   "source": [
    "from pyspark.ml.recommendation import ALS\n",
    "from pyspark.ml.evaluation import RegressionEvaluator\n",
    "# from pyspark.ml.tuning import CrossValidator, ParamGridBuilder\n",
    "\n",
    "# Initialize the ALS model\n",
    "als = ALS(userCol=\"user_id\", itemCol=\"movie_id\", ratingCol=\"rating\", coldStartStrategy=\"drop\", nonnegative=True)\n",
    "\n",
    "# Define a grid of hyperparameters\n",
    "paramGrid = ParamGridBuilder() \\\n",
    "            .addGrid(als.rank, [10, 20, 30]) \\\n",
    "            .addGrid(als.regParam, [0.1, 0.01, 0.001]) \\\n",
    "            .addGrid(als.maxIter, [5, 10, 15]) \\\n",
    "            .build()\n",
    "\n",
    "# Define an evaluator\n",
    "evaluator = RegressionEvaluator(metricName=\"rmse\", labelCol=\"rating\", predictionCol=\"prediction\")\n",
    "\n",
    "# Initialize CrossValidator\n",
    "crossval = CrossValidator(estimator=als,\n",
    "                          estimatorParamMaps=paramGrid,\n",
    "                          evaluator=evaluator,\n",
    "                          numFolds=5,\n",
    "                          parallelism=2)\n",
    "\n",
    "# Fit CrossValidator on the training data\n",
    "cvModel = crossval.fit(train_df)"
   ]
  },
  {
   "cell_type": "code",
   "execution_count": 63,
   "id": "aa4c5a40-ed8f-4949-930f-48c849991816",
   "metadata": {},
   "outputs": [
    {
     "name": "stdout",
     "output_type": "stream",
     "text": [
      "Root Mean Squared Error (RMSE) on test data = 0.91613\n",
      "Best Model Hyperparameters:\n",
      "rank:  30\n",
      "regParam:  0.1\n",
      "maxIter:  15\n"
     ]
    }
   ],
   "source": [
    "# Make predictions on test data\n",
    "predictions = cvModel.transform(test_df)\n",
    "\n",
    "# Evaluate the model\n",
    "rmse = evaluator.evaluate(predictions)\n",
    "print(\"Root Mean Squared Error (RMSE) on test data = %g\" % rmse)\n",
    "\n",
    "# Best model's hyperparameters\n",
    "best_rank = cvModel.bestModel.rank\n",
    "best_regParam = cvModel.bestModel._java_obj.parent().getRegParam()\n",
    "best_maxIter = cvModel.bestModel._java_obj.parent().getMaxIter()\n",
    "\n",
    "print(\"Best Model Hyperparameters:\")\n",
    "print(\"rank: \", best_rank)\n",
    "print(\"regParam: \", best_regParam)\n",
    "print(\"maxIter: \", best_maxIter)"
   ]
  },
  {
   "cell_type": "code",
   "execution_count": 64,
   "id": "c0ec1b6e-1c9e-4d4c-9881-0643d6cbb06a",
   "metadata": {},
   "outputs": [],
   "source": [
    "# Build the recommendation model using ALS on the training data using best model's hyperparameters\n",
    "als = ALS(rank=best_rank, regParam=best_regParam, maxIter=best_maxIter,\n",
    "          userCol=\"user_id\", itemCol=\"movie_id\", ratingCol=\"rating\", coldStartStrategy=\"drop\" )\n",
    "\n",
    "als_model = als.fit(train_df)"
   ]
  },
  {
   "cell_type": "markdown",
   "id": "c4bb137b-78e9-4d9d-ad65-2e2c598780f8",
   "metadata": {},
   "source": [
    "**Implementing the model**"
   ]
  },
  {
   "cell_type": "markdown",
   "id": "41a8f106-f9e9-4e62-8f4c-85784b371c38",
   "metadata": {},
   "source": [
    "This new split will give us simulation of new data (users that are new to the system)"
   ]
  },
  {
   "cell_type": "code",
   "execution_count": 65,
   "id": "31631a3c-1989-4698-a8df-f65d7b409502",
   "metadata": {
    "tags": []
   },
   "outputs": [],
   "source": [
    "# Spliting ratings dataset\n",
    "train_df2, test_df2 = ratings_df.randomSplit([0.8, 0.2], seed=4)"
   ]
  },
  {
   "cell_type": "markdown",
   "id": "0937bc74-cee7-4bae-a7db-fc0fcca239fe",
   "metadata": {},
   "source": [
    "Using train_df2, we identify users who have given fewer than 5 ratings or do not appear in train_df and create two variables: <br> *users_with_grades* (users from traind_df2 who appear in train_df and have at least 5 ratings) and <br> *users_without_grades* (users from train_df2 who either do not appear in train_df or have provided fewer than 5 ratings) <br>\n",
    "That way we simulate 'new' users who are not yet known to the trained model."
   ]
  },
  {
   "cell_type": "code",
   "execution_count": 66,
   "id": "66ef92e9-072d-4a95-88fa-33f166bf55d8",
   "metadata": {},
   "outputs": [
    {
     "name": "stdout",
     "output_type": "stream",
     "text": [
      "+-------+--------+------+---------+\n",
      "|user_id|movie_id|rating|timestamp|\n",
      "+-------+--------+------+---------+\n",
      "|      1|       1|     5|874965758|\n",
      "|      1|       2|     3|876893171|\n",
      "|      1|       3|     4|878542960|\n",
      "|      1|       7|     4|875071561|\n",
      "|      1|       8|     1|875072484|\n",
      "|      1|       9|     5|878543541|\n",
      "|      1|      10|     3|875693118|\n",
      "|      1|      11|     2|875072262|\n",
      "|      1|      14|     5|874965706|\n",
      "|      1|      17|     3|875073198|\n",
      "|      1|      18|     4|887432020|\n",
      "|      1|      20|     4|887431883|\n",
      "|      1|      21|     1|878542772|\n",
      "|      1|      22|     4|875072404|\n",
      "|      1|      23|     4|875072895|\n",
      "|      1|      24|     3|875071713|\n",
      "|      1|      25|     4|875071805|\n",
      "|      1|      26|     3|875072442|\n",
      "|      1|      27|     2|876892946|\n",
      "|      1|      28|     4|875072173|\n",
      "+-------+--------+------+---------+\n",
      "only showing top 20 rows\n",
      "\n"
     ]
    }
   ],
   "source": [
    "train_df.show()"
   ]
  },
  {
   "cell_type": "code",
   "execution_count": 67,
   "id": "e19fe05d-7c36-41c7-ae11-5941e76f00a4",
   "metadata": {},
   "outputs": [
    {
     "name": "stdout",
     "output_type": "stream",
     "text": [
      "+-------+--------+------+---------+\n",
      "|user_id|movie_id|rating|timestamp|\n",
      "+-------+--------+------+---------+\n",
      "|      1|       2|     3|876893171|\n",
      "|      1|       3|     4|878542960|\n",
      "|      1|       4|     3|876893119|\n",
      "|      1|       5|     3|889751712|\n",
      "|      1|       6|     5|887431973|\n",
      "|      1|       7|     4|875071561|\n",
      "|      1|       9|     5|878543541|\n",
      "|      1|      10|     3|875693118|\n",
      "|      1|      11|     2|875072262|\n",
      "|      1|      12|     5|878542960|\n",
      "|      1|      13|     5|875071805|\n",
      "|      1|      14|     5|874965706|\n",
      "|      1|      16|     5|878543541|\n",
      "|      1|      17|     3|875073198|\n",
      "|      1|      18|     4|887432020|\n",
      "|      1|      19|     5|875071515|\n",
      "|      1|      20|     4|887431883|\n",
      "|      1|      22|     4|875072404|\n",
      "|      1|      23|     4|875072895|\n",
      "|      1|      24|     3|875071713|\n",
      "+-------+--------+------+---------+\n",
      "only showing top 20 rows\n",
      "\n"
     ]
    }
   ],
   "source": [
    "train_df2.show()"
   ]
  },
  {
   "cell_type": "markdown",
   "id": "ab3062bb-e527-412b-9f35-e12fa14ecdb2",
   "metadata": {},
   "source": [
    "**Segmenting users in users_with_grades and users_without_grades categories**"
   ]
  },
  {
   "cell_type": "code",
   "execution_count": 68,
   "id": "7e805e59-2087-4f53-890e-220caddb841c",
   "metadata": {},
   "outputs": [
    {
     "name": "stdout",
     "output_type": "stream",
     "text": [
      "+-------+--------+------+---------+\n",
      "|user_id|movie_id|rating|timestamp|\n",
      "+-------+--------+------+---------+\n",
      "+-------+--------+------+---------+\n",
      "\n"
     ]
    }
   ],
   "source": [
    "# Perform a left anti join to find user IDs only in train_df2\n",
    "users_only_in_df2 = train_df2.join(train_df, on=['user_id'], how='left_anti')\n",
    "\n",
    "users_only_in_df2.show()     "
   ]
  },
  {
   "cell_type": "code",
   "execution_count": 69,
   "id": "a1c12e16-06b7-490b-9218-680da5e91a8f",
   "metadata": {},
   "outputs": [
    {
     "name": "stdout",
     "output_type": "stream",
     "text": [
      "+-------+-----+\n",
      "|user_id|count|\n",
      "+-------+-----+\n",
      "+-------+-----+\n",
      "\n"
     ]
    }
   ],
   "source": [
    "user_rating_counts = train_df2.groupBy('user_id').count()\n",
    "\n",
    "# Filter users who have rated less than 5 movies\n",
    "users_less_than_5_movies = user_rating_counts.filter(f.col('count') < 5)\n",
    "\n",
    "users_less_than_5_movies.show()"
   ]
  },
  {
   "cell_type": "code",
   "execution_count": 70,
   "id": "b7a323a0-60e5-4191-8f70-5e266e21c5ab",
   "metadata": {},
   "outputs": [
    {
     "name": "stdout",
     "output_type": "stream",
     "text": [
      "+-------+--------+------+---------+-----+\n",
      "|user_id|movie_id|rating|timestamp|count|\n",
      "+-------+--------+------+---------+-----+\n",
      "+-------+--------+------+---------+-----+\n",
      "\n"
     ]
    }
   ],
   "source": [
    "user_rating_counts = train_df2.groupBy('user_id').count()\n",
    "\n",
    "# Filter users who have rated less than 5 movies\n",
    "users_less_than_5_movies = user_rating_counts.filter(f.col('count') < 5)\n",
    "\n",
    "# Join the original DataFrame with the filtered users to get their ratings\n",
    "filtered_dataframe = train_df2.join(users_less_than_5_movies, on=['user_id'], how='inner')\n",
    "\n",
    "# Show the resulting DataFrame containing users who have rated less than 5 movies\n",
    "filtered_dataframe.show()"
   ]
  },
  {
   "cell_type": "markdown",
   "id": "b25f049a-a25b-48d3-ba8c-5baaf2713ccd",
   "metadata": {},
   "source": [
    "We see that the condition of five ratings is not enough for us to simulate a cold start, as it results in an empty set.\n",
    "That is why we first need to explore which rating threshold would be more appropriate for our scenario."
   ]
  },
  {
   "cell_type": "code",
   "execution_count": 71,
   "id": "16131b55-1405-4797-a365-cf4692d0a447",
   "metadata": {},
   "outputs": [
    {
     "name": "stdout",
     "output_type": "stream",
     "text": [
      "Percentile 10.0%: 19.0\n",
      "Percentile 20.0%: 23.0\n",
      "Percentile 25.0%: 26.0\n",
      "Percentile 50.0%: 52.0\n",
      "Percentile 75.0%: 118.0\n",
      "Percentile 90.0%: 189.0\n"
     ]
    }
   ],
   "source": [
    "user_ratings_count = train_df2.groupBy(\"user_id\").agg(f.count(\"rating\").alias(\"num_ratings\"))\n",
    "\n",
    "sorted_users = user_ratings_count.orderBy(f.asc(\"num_ratings\"))\n",
    "\n",
    "# Percentiles of interest\n",
    "percentiles = [0.1, 0.20, 0.25, 0.50, 0.75, 0.90]\n",
    "\n",
    "ratings_percentiles = sorted_users.approxQuantile(\"num_ratings\", percentiles, relativeError=0.01)\n",
    "\n",
    "for percentile, value in zip(percentiles, ratings_percentiles):\n",
    "    print(f\"Percentile {percentile * 100}%: {value}\")"
   ]
  },
  {
   "cell_type": "markdown",
   "id": "0f3a37a4-460c-42e1-ab67-87acaffcfdb4",
   "metadata": {},
   "source": [
    "To extract around 25% of users for the model, we can filter those who have rated no more than 25 movies."
   ]
  },
  {
   "cell_type": "code",
   "execution_count": 72,
   "id": "2c3daa20-ca1c-4b25-8141-59778eddb3e0",
   "metadata": {},
   "outputs": [
    {
     "name": "stdout",
     "output_type": "stream",
     "text": [
      "+-------+--------+------+---------+-----+\n",
      "|user_id|movie_id|rating|timestamp|count|\n",
      "+-------+--------+------+---------+-----+\n",
      "|      4|      50|     5|892003526|   20|\n",
      "|      4|     210|     3|892003374|   20|\n",
      "|      4|     258|     5|892001374|   20|\n",
      "|      4|     260|     4|892004275|   20|\n",
      "|      4|     264|     3|892004275|   20|\n",
      "|      4|     271|     4|892001690|   20|\n",
      "|      4|     294|     5|892004409|   20|\n",
      "|      4|     300|     5|892001445|   20|\n",
      "|      4|     301|     5|892002353|   20|\n",
      "|      4|     303|     5|892002352|   20|\n",
      "|      4|     324|     5|892002353|   20|\n",
      "|      4|     327|     5|892002352|   20|\n",
      "|      4|     328|     3|892001537|   20|\n",
      "|      4|     329|     5|892002352|   20|\n",
      "|      4|     356|     3|892003459|   20|\n",
      "|      4|     357|     4|892003525|   20|\n",
      "|      4|     358|     2|892004275|   20|\n",
      "|      4|     359|     5|892002352|   20|\n",
      "|      4|     361|     5|892002353|   20|\n",
      "|      4|     362|     5|892002352|   20|\n",
      "+-------+--------+------+---------+-----+\n",
      "only showing top 20 rows\n",
      "\n"
     ]
    }
   ],
   "source": [
    "user_rating_counts = train_df2.groupBy('user_id').count()\n",
    "\n",
    "# Filter users who have rated less than 25 movies\n",
    "users_less_than_25_movies = user_rating_counts.filter(f.col('count') < 25)\n",
    "\n",
    "# Join the original DataFrame with the filtered users to get their ratings\n",
    "filtered_dataframe = train_df2.join(users_less_than_25_movies, on=['user_id'], how='inner')\n",
    "\n",
    "# Show the resulting DataFrame containing users who have rated less than 25 movies\n",
    "filtered_dataframe.show()"
   ]
  },
  {
   "cell_type": "code",
   "execution_count": 73,
   "id": "b62e407b-7816-40cc-8f38-5c8eac621702",
   "metadata": {},
   "outputs": [
    {
     "name": "stdout",
     "output_type": "stream",
     "text": [
      "Number of rows in the DataFrame: 215\n"
     ]
    }
   ],
   "source": [
    "# Create users_without_grades\n",
    "users_without_grades = filtered_dataframe.select(\"user_id\").distinct()\n",
    "\n",
    "row_count = users_without_grades.count()\n",
    "print(\"Number of rows in the DataFrame:\", row_count)"
   ]
  },
  {
   "cell_type": "markdown",
   "id": "1ac945a3-6858-4d6a-90e4-61dd79007135",
   "metadata": {},
   "source": [
    "For users_without_grades we will use content-based recommendation system (LR)."
   ]
  },
  {
   "cell_type": "code",
   "execution_count": 74,
   "id": "e442d48d-e6ca-4d5e-ab63-e8c794d55e85",
   "metadata": {},
   "outputs": [
    {
     "name": "stdout",
     "output_type": "stream",
     "text": [
      "Number of unique user IDs in the DataFrame: 728\n"
     ]
    }
   ],
   "source": [
    "# Create users_with_grades \n",
    "\n",
    "all_users_df2 = train_df2.select('user_id').distinct()\n",
    "with_grades_df2 = all_users_df2.join(users_without_grades, on=['user_id'], how='left_anti')\n",
    "\n",
    "users_with_grades = with_grades_df2.select('user_id').distinct()\n",
    "\n",
    "user_id_count = users_with_grades.count()\n",
    "\n",
    "print(\"Number of unique user IDs in the DataFrame:\", user_id_count)"
   ]
  },
  {
   "cell_type": "markdown",
   "id": "cbed6ffc-6a59-4390-a3eb-bfe89b3003a1",
   "metadata": {},
   "source": [
    "For users_with_grades we will use collaborative recommendation system (ALS)."
   ]
  },
  {
   "cell_type": "code",
   "execution_count": 75,
   "id": "02925df9-48ac-4000-bac7-e53945b3590e",
   "metadata": {},
   "outputs": [
    {
     "name": "stdout",
     "output_type": "stream",
     "text": [
      "Number of unique user IDs in the DataFrame: 943\n"
     ]
    }
   ],
   "source": [
    "# Count the number of unique user IDs train_df2 to double-check\n",
    "user_id_count = train_df2.select('user_id').distinct().count()\n",
    "\n",
    "print(\"Number of unique user IDs in the DataFrame:\", user_id_count)"
   ]
  },
  {
   "cell_type": "code",
   "execution_count": 76,
   "id": "3901e5a9-6917-49b8-8528-19ad1be43add",
   "metadata": {},
   "outputs": [
    {
     "name": "stdout",
     "output_type": "stream",
     "text": [
      "Number of unique movie IDs in the DataFrame: 18\n"
     ]
    }
   ],
   "source": [
    "# Count distinct movies that appear only in train_df2\n",
    "\n",
    "movies_only_in_df2 = train_df2.join(train_df, on=['movie_id'], how='left_anti')\n",
    "\n",
    "movies_only_in_df2 = movies_only_in_df2.select('movie_id').distinct()\n",
    "\n",
    "movies_only_in_df2_count = movies_only_in_df2.count()\n",
    "\n",
    "print(\"Number of unique movie IDs in the DataFrame:\", movies_only_in_df2_count)"
   ]
  },
  {
   "cell_type": "code",
   "execution_count": 77,
   "id": "570735c0-745c-401c-ba66-b8dec359db72",
   "metadata": {},
   "outputs": [
    {
     "name": "stdout",
     "output_type": "stream",
     "text": [
      "Number of unique movie IDs in both train DataFrames: 1634\n"
     ]
    }
   ],
   "source": [
    "# Count distinct movies that appear in both train datasets\n",
    "\n",
    "movies_in_both_df_df2 = train_df2.join(train_df, on=['movie_id'], how='inner')\n",
    "\n",
    "movies_in_both_df_df2 = movies_in_both_df_df2.select('movie_id').distinct()\n",
    "\n",
    "movies_in_df_df2_count = movies_in_both_df_df2.count()\n",
    "\n",
    "print(\"Number of unique movie IDs in both train DataFrames:\", movies_in_df_df2_count)"
   ]
  },
  {
   "cell_type": "markdown",
   "id": "27b53d36-f40e-4471-9b9c-3bf543f17d7a",
   "metadata": {},
   "source": [
    "**Creating predictions for known users**"
   ]
  },
  {
   "cell_type": "code",
   "execution_count": 78,
   "id": "41546935-9d00-489c-8e03-253b8ac89c87",
   "metadata": {},
   "outputs": [
    {
     "name": "stdout",
     "output_type": "stream",
     "text": [
      "+--------+\n",
      "|movie_id|\n",
      "+--------+\n",
      "|    1507|\n",
      "|    1533|\n",
      "|    1525|\n",
      "|    1675|\n",
      "|    1156|\n",
      "|    1505|\n",
      "|    1586|\n",
      "|    1663|\n",
      "|    1603|\n",
      "|    1649|\n",
      "|    1624|\n",
      "|    1657|\n",
      "|    1494|\n",
      "|    1358|\n",
      "|    1320|\n",
      "|    1548|\n",
      "|    1604|\n",
      "|    1080|\n",
      "+--------+\n",
      "\n"
     ]
    }
   ],
   "source": [
    "movies_only_in_df2.show()"
   ]
  },
  {
   "cell_type": "code",
   "execution_count": 79,
   "id": "39ad2986-417e-4c75-afa8-3708b6eb9cf2",
   "metadata": {},
   "outputs": [
    {
     "name": "stdout",
     "output_type": "stream",
     "text": [
      "+-------+\n",
      "|user_id|\n",
      "+-------+\n",
      "|    148|\n",
      "|    463|\n",
      "|    496|\n",
      "|    833|\n",
      "|    243|\n",
      "|    392|\n",
      "|    540|\n",
      "|    623|\n",
      "|    737|\n",
      "|    897|\n",
      "|     31|\n",
      "|     85|\n",
      "|    137|\n",
      "|    251|\n",
      "|    451|\n",
      "|    580|\n",
      "|     65|\n",
      "|    458|\n",
      "|    883|\n",
      "|     53|\n",
      "+-------+\n",
      "only showing top 20 rows\n",
      "\n"
     ]
    }
   ],
   "source": [
    "users_with_grades.show()\n"
   ]
  },
  {
   "cell_type": "code",
   "execution_count": 80,
   "id": "2f1bf54e-7d97-42aa-8075-41b452c0a83f",
   "metadata": {},
   "outputs": [
    {
     "name": "stdout",
     "output_type": "stream",
     "text": [
      "+-------+--------+\n",
      "|user_id|movie_id|\n",
      "+-------+--------+\n",
      "|    148|    1507|\n",
      "|    148|    1533|\n",
      "|    148|    1525|\n",
      "|    148|    1675|\n",
      "|    148|    1156|\n",
      "|    148|    1505|\n",
      "|    148|    1586|\n",
      "|    148|    1663|\n",
      "|    148|    1603|\n",
      "|    148|    1649|\n",
      "|    148|    1624|\n",
      "|    148|    1657|\n",
      "|    148|    1494|\n",
      "|    148|    1358|\n",
      "|    148|    1320|\n",
      "|    148|    1548|\n",
      "|    148|    1604|\n",
      "|    148|    1080|\n",
      "|    463|    1507|\n",
      "|    463|    1533|\n",
      "+-------+--------+\n",
      "only showing top 20 rows\n",
      "\n"
     ]
    }
   ],
   "source": [
    "# Perform a cross join to get all combinations of user_id and movie_id\n",
    "combinations_df = users_with_grades.crossJoin(movies_only_in_df2)\n",
    "\n",
    "# Show the resulting DataFrame\n",
    "combinations_df.show()"
   ]
  },
  {
   "cell_type": "code",
   "execution_count": 81,
   "id": "40567d4b-7cf5-4f2c-ae95-b9b91ddd8b0c",
   "metadata": {},
   "outputs": [],
   "source": [
    "combinations_filtered_df = combinations_df.join(train_df, on=['user_id','movie_id'], how='left_anti')"
   ]
  },
  {
   "cell_type": "code",
   "execution_count": 82,
   "id": "b14bd25e-22d6-4ce3-a0dd-03724e46d3e7",
   "metadata": {},
   "outputs": [],
   "source": [
    "predictions = als_model.transform(combinations_filtered_df)"
   ]
  },
  {
   "cell_type": "code",
   "execution_count": 83,
   "id": "dd0c41c0-24e7-4025-9947-2da5d18f336f",
   "metadata": {},
   "outputs": [
    {
     "name": "stdout",
     "output_type": "stream",
     "text": [
      "+-------+--------+----------+\n",
      "|user_id|movie_id|prediction|\n",
      "+-------+--------+----------+\n",
      "+-------+--------+----------+\n",
      "\n"
     ]
    }
   ],
   "source": [
    "predictions.show()"
   ]
  },
  {
   "cell_type": "code",
   "execution_count": 84,
   "id": "7e384f68-914b-451f-a49f-63476aa25832",
   "metadata": {},
   "outputs": [
    {
     "name": "stdout",
     "output_type": "stream",
     "text": [
      "+-------+--------+----------+----+\n",
      "|user_id|movie_id|prediction|rank|\n",
      "+-------+--------+----------+----+\n",
      "+-------+--------+----------+----+\n",
      "\n"
     ]
    }
   ],
   "source": [
    "# Sorting each user predictions in descending order\n",
    "window_spec = Window.partitionBy(\"user_id\").orderBy(f.desc(\"prediction\"))\n",
    "\n",
    "sorted_predictions = predictions.withColumn(\"rank\", f.row_number().over(window_spec))\n",
    "\n",
    "sorted_predictions.show()"
   ]
  },
  {
   "cell_type": "code",
   "execution_count": 85,
   "id": "9952488b-0434-4663-91ff-c1b83f7eb057",
   "metadata": {},
   "outputs": [
    {
     "name": "stdout",
     "output_type": "stream",
     "text": [
      "+-------+--------+----------+\n",
      "|user_id|movie_id|prediction|\n",
      "+-------+--------+----------+\n",
      "+-------+--------+----------+\n",
      "\n"
     ]
    }
   ],
   "source": [
    "# Filter out only the top 3 prediction for each user\n",
    "top_predictions = sorted_predictions.filter(f.col(\"rank\") < 4)\n",
    "\n",
    "top_predictions = top_predictions.drop(\"rank\")\n",
    "\n",
    "top_predictions.show()"
   ]
  },
  {
   "cell_type": "markdown",
   "id": "87c5bccf-b193-4e5c-baa3-64c01f08896e",
   "metadata": {},
   "source": [
    "## 5. Hybrid recommendation system"
   ]
  },
  {
   "cell_type": "code",
   "execution_count": 86,
   "id": "09c3ad64-de58-465b-8f43-e401c37736ef",
   "metadata": {},
   "outputs": [
    {
     "name": "stdout",
     "output_type": "stream",
     "text": [
      "+-------+--------+------+---------+\n",
      "|user_id|movie_id|rating|timestamp|\n",
      "+-------+--------+------+---------+\n",
      "|      1|       2|     3|876893171|\n",
      "|      1|       3|     4|878542960|\n",
      "|      1|       4|     3|876893119|\n",
      "|      1|       5|     3|889751712|\n",
      "|      1|       6|     5|887431973|\n",
      "|      1|       7|     4|875071561|\n",
      "|      1|       9|     5|878543541|\n",
      "|      1|      10|     3|875693118|\n",
      "|      1|      11|     2|875072262|\n",
      "|      1|      12|     5|878542960|\n",
      "|      1|      13|     5|875071805|\n",
      "|      1|      14|     5|874965706|\n",
      "|      1|      16|     5|878543541|\n",
      "|      1|      17|     3|875073198|\n",
      "|      1|      18|     4|887432020|\n",
      "|      1|      19|     5|875071515|\n",
      "|      1|      20|     4|887431883|\n",
      "|      1|      22|     4|875072404|\n",
      "|      1|      23|     4|875072895|\n",
      "|      1|      24|     3|875071713|\n",
      "+-------+--------+------+---------+\n",
      "only showing top 20 rows\n",
      "\n"
     ]
    }
   ],
   "source": [
    "train_df2.show()"
   ]
  },
  {
   "cell_type": "code",
   "execution_count": 87,
   "id": "c7cae21d-4af1-45c3-a0f5-7cab15b2b6a8",
   "metadata": {},
   "outputs": [
    {
     "name": "stdout",
     "output_type": "stream",
     "text": [
      "+-------+\n",
      "|user_id|\n",
      "+-------+\n",
      "|    471|\n",
      "|    858|\n",
      "|    516|\n",
      "|    808|\n",
      "|    879|\n",
      "|    799|\n",
      "|    133|\n",
      "|     78|\n",
      "|    513|\n",
      "|    362|\n",
      "|    613|\n",
      "|    857|\n",
      "|    375|\n",
      "|    876|\n",
      "|    108|\n",
      "|    155|\n",
      "|    744|\n",
      "|     34|\n",
      "|    596|\n",
      "|    762|\n",
      "+-------+\n",
      "only showing top 20 rows\n",
      "\n"
     ]
    }
   ],
   "source": [
    "users_without_grades.show()"
   ]
  },
  {
   "cell_type": "code",
   "execution_count": 88,
   "id": "01d8346d-f84b-42d8-82d8-e0f4f8f3de40",
   "metadata": {},
   "outputs": [],
   "source": [
    "from functools import reduce\n",
    "\n",
    "def get_users_content_based_recommendation(dataframe):\n",
    "    # Collect unique user_ids from your DataFrame\n",
    "    user_ids = dataframe.select(\"user_id\").distinct().rdd.map(lambda x: x[0]).collect()\n",
    "\n",
    "    # Apply the function to each user_id and collect the resulting DataFrames\n",
    "    # get_user_recommendation returns content based predictions\n",
    "    user_dataframes = [get_user_recommendation(user_id) for user_id in user_ids]\n",
    "\n",
    "    # Combine the DataFrames into a single DataFrame\n",
    "    combined_dataframe = reduce(lambda df1, df2: df1.union(df2), user_dataframes)\n",
    "\n",
    "    \n",
    "    return combined_dataframe"
   ]
  },
  {
   "cell_type": "code",
   "execution_count": 89,
   "id": "7eb6f147-3cc2-4348-8a47-1043981d292b",
   "metadata": {},
   "outputs": [],
   "source": [
    "def recommendation_systems(df2, df1, movies_with_grades):\n",
    "\n",
    "    # Filter users who have rated less than 25 movies\n",
    "    user_rating_counts = df2.groupBy('user_id').count()\n",
    "    users_without_grades = user_rating_counts.filter(f.col('count') < 25).select('user_id')\n",
    "\n",
    "    all_users = df2.select('user_id').distinct()\n",
    "\n",
    "    # Filter users who have rated more than 25 movies\n",
    "    users_with_grades = all_users.join(users_without_grades, on=['user_id'], how='left_anti')\n",
    "    users_with_grades = users_with_grades.select('user_id').distinct()\n",
    "    print(\"User segmentation based on grades done.\")\n",
    "\n",
    "    # ALS model for users with grades\n",
    "    combinations_df = users_with_grades.crossJoin(movies_with_grades)\n",
    "    \n",
    "    combinations_filtered_df = combinations_df.join(df1, on=['user_id','movie_id'], how='left_anti')\n",
    "    als_predictions = als_model.transform(combinations_filtered_df)\n",
    "    window_spec = Window.partitionBy(\"user_id\").orderBy(f.desc(\"prediction\"))\n",
    "    als_sorted_predictions = als_predictions.withColumn(\"rank\", f.row_number().over(window_spec))\n",
    "    als_sorted_predictions= als_sorted_predictions.drop(\"rank\")\n",
    "    print(\"Colaborative filtering done.\")\n",
    "\n",
    "    # Prediction model for users without grades\n",
    "    lr_predictions = get_users_content_based_recommendation(users_without_grades)\n",
    "    print(\"Content based done.\")\n",
    "\n",
    "    final_df = als_sorted_predictions.union(lr_predictions)\n",
    "\n",
    "    sorted_final = final_df.orderBy(final_df.user_id.asc(), final_df.prediction.desc())\n",
    "\n",
    "    return sorted_final"
   ]
  },
  {
   "cell_type": "code",
   "execution_count": 90,
   "id": "bfdf52c3-f8ff-4447-b9c6-29c65420a9ac",
   "metadata": {},
   "outputs": [
    {
     "name": "stdout",
     "output_type": "stream",
     "text": [
      "User segmentation based on grades done.\n",
      "Colaborative filtering done.\n",
      "Content based done.\n"
     ]
    }
   ],
   "source": [
    "final = recommendation_systems(train_df2, train_df, movies_in_both_df_df2)"
   ]
  },
  {
   "cell_type": "code",
   "execution_count": 91,
   "id": "b0d4355b-b352-49da-9a5f-c4ea2baa5b20",
   "metadata": {},
   "outputs": [
    {
     "name": "stdout",
     "output_type": "stream",
     "text": [
      "+-------+-------------+\n",
      "|user_id|ratings_count|\n",
      "+-------+-------------+\n",
      "|    405|          601|\n",
      "|    655|          548|\n",
      "|     13|          503|\n",
      "|    450|          430|\n",
      "|    276|          410|\n",
      "|    303|          399|\n",
      "|    416|          396|\n",
      "|    234|          385|\n",
      "|    537|          375|\n",
      "|    181|          353|\n",
      "|    393|          348|\n",
      "|    279|          346|\n",
      "|    429|          340|\n",
      "|    846|          339|\n",
      "|     92|          327|\n",
      "|     94|          326|\n",
      "|    293|          325|\n",
      "|      7|          321|\n",
      "|    682|          320|\n",
      "|    308|          316|\n",
      "+-------+-------------+\n",
      "only showing top 20 rows\n",
      "\n"
     ]
    }
   ],
   "source": [
    "# Grouping by user_id and counting the number of ratings for each user\n",
    "ratings_count = train_df2.groupBy('user_id').agg(f.count('rating').alias('ratings_count'))\n",
    "\n",
    "# Sorting the users based on the number of ratings they've given\n",
    "ratings_count_sorted = ratings_count.orderBy('ratings_count', ascending=False)\n",
    "\n",
    "# Displaying the result\n",
    "ratings_count_sorted.show()"
   ]
  },
  {
   "cell_type": "markdown",
   "id": "50880633-83cc-470f-ab37-21eb67401788",
   "metadata": {},
   "source": [
    "**How the user will rate top 50 movies**"
   ]
  },
  {
   "cell_type": "code",
   "execution_count": 92,
   "id": "5258c1e3-9bca-4346-be35-0634b0b4064d",
   "metadata": {},
   "outputs": [],
   "source": [
    "user_450_data = final.filter(final.user_id == 450)"
   ]
  },
  {
   "cell_type": "code",
   "execution_count": 93,
   "id": "2d6276a4-6727-4c0d-a413-875cfc7e8173",
   "metadata": {},
   "outputs": [
    {
     "name": "stdout",
     "output_type": "stream",
     "text": [
      "+-------+--------+------------------+\n",
      "|user_id|movie_id|        prediction|\n",
      "+-------+--------+------------------+\n",
      "|    450|    1463| 5.038302421569824|\n",
      "|    450|    1449| 4.831721305847168|\n",
      "|    450|     515| 4.748378276824951|\n",
      "|    450|      57|4.7307257652282715|\n",
      "|    450|     357| 4.723079681396484|\n",
      "|    450|     863| 4.678903102874756|\n",
      "|    450|     963|4.6661601066589355|\n",
      "|    450|      98| 4.660663604736328|\n",
      "|    450|    1122| 4.627396106719971|\n",
      "|    450|    1398|4.6055378913879395|\n",
      "|    450|     408|  4.59337043762207|\n",
      "|    450|    1064| 4.587924003601074|\n",
      "|    450|    1524| 4.581523895263672|\n",
      "|    450|    1467| 4.576347827911377|\n",
      "|    450|    1643|4.5728373527526855|\n",
      "|    450|     480| 4.571084022521973|\n",
      "|    450|    1368| 4.562071323394775|\n",
      "|    450|     659| 4.551117420196533|\n",
      "|    450|     174| 4.547391891479492|\n",
      "|    450|     958| 4.499762535095215|\n",
      "+-------+--------+------------------+\n",
      "only showing top 20 rows\n",
      "\n"
     ]
    }
   ],
   "source": [
    "user_450_data.show()"
   ]
  }
 ],
 "metadata": {
  "kernelspec": {
   "display_name": "Python 3 (ipykernel)",
   "language": "python",
   "name": "python3"
  },
  "language_info": {
   "codemirror_mode": {
    "name": "ipython",
    "version": 3
   },
   "file_extension": ".py",
   "mimetype": "text/x-python",
   "name": "python",
   "nbconvert_exporter": "python",
   "pygments_lexer": "ipython3",
   "version": "3.9.13"
  }
 },
 "nbformat": 4,
 "nbformat_minor": 5
}
